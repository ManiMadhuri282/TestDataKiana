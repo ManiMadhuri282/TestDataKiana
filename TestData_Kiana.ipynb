{
 "cells": [
  {
   "cell_type": "markdown",
   "metadata": {},
   "source": [
    "# 1. Solo Traveler Data"
   ]
  },
  {
   "cell_type": "code",
   "execution_count": 1,
   "metadata": {},
   "outputs": [],
   "source": [
    "import json  \n",
    "import pandas as pd  \n",
    "import time"
   ]
  },
  {
   "cell_type": "code",
   "execution_count": 2,
   "metadata": {},
   "outputs": [],
   "source": [
    " \n",
    "\n",
    "with open('matching.json') as f: \n",
    "    df = pd.DataFrame(json.load(f))"
   ]
  },
  {
   "cell_type": "code",
   "execution_count": 3,
   "metadata": {},
   "outputs": [
    {
     "data": {
      "text/plain": [
       "(1767244, 1767244)"
      ]
     },
     "execution_count": 3,
     "metadata": {},
     "output_type": "execute_result"
    }
   ],
   "source": [
    "df2 = df.copy()\n",
    "len(df2),len(df)"
   ]
  },
  {
   "cell_type": "code",
   "execution_count": 4,
   "metadata": {},
   "outputs": [
    {
     "data": {
      "text/html": [
       "<div>\n",
       "<style scoped>\n",
       "    .dataframe tbody tr th:only-of-type {\n",
       "        vertical-align: middle;\n",
       "    }\n",
       "\n",
       "    .dataframe tbody tr th {\n",
       "        vertical-align: top;\n",
       "    }\n",
       "\n",
       "    .dataframe thead th {\n",
       "        text-align: right;\n",
       "    }\n",
       "</style>\n",
       "<table border=\"1\" class=\"dataframe\">\n",
       "  <thead>\n",
       "    <tr style=\"text-align: right;\">\n",
       "      <th></th>\n",
       "      <th>Building</th>\n",
       "      <th>Level</th>\n",
       "      <th>ClientMacAddr</th>\n",
       "      <th>lat</th>\n",
       "      <th>lng</th>\n",
       "      <th>localtime</th>\n",
       "    </tr>\n",
       "  </thead>\n",
       "  <tbody>\n",
       "    <tr>\n",
       "      <th>0</th>\n",
       "      <td>TPS2</td>\n",
       "      <td>Level 3</td>\n",
       "      <td>88:e9:fe:ec:8d:95</td>\n",
       "      <td>-22.814076</td>\n",
       "      <td>-43.247676</td>\n",
       "      <td>2019-11-19 00:00:00.12 UTC</td>\n",
       "    </tr>\n",
       "    <tr>\n",
       "      <th>1</th>\n",
       "      <td>TPS2</td>\n",
       "      <td>Level 3</td>\n",
       "      <td>88:e9:fe:ec:8d:95</td>\n",
       "      <td>-22.814076</td>\n",
       "      <td>-43.247676</td>\n",
       "      <td>2019-11-19 00:00:00.12 UTC</td>\n",
       "    </tr>\n",
       "    <tr>\n",
       "      <th>2</th>\n",
       "      <td>TPS2</td>\n",
       "      <td>Level 3</td>\n",
       "      <td>b8:27:eb:14:a4:88</td>\n",
       "      <td>-22.813697</td>\n",
       "      <td>-43.247597</td>\n",
       "      <td>2019-11-19 00:00:00.197 UTC</td>\n",
       "    </tr>\n",
       "    <tr>\n",
       "      <th>3</th>\n",
       "      <td>TPS2</td>\n",
       "      <td>Level 3</td>\n",
       "      <td>b8:27:eb:14:a4:88</td>\n",
       "      <td>-22.813697</td>\n",
       "      <td>-43.247597</td>\n",
       "      <td>2019-11-19 00:00:00.197 UTC</td>\n",
       "    </tr>\n",
       "    <tr>\n",
       "      <th>4</th>\n",
       "      <td>TPS2</td>\n",
       "      <td>Level 3</td>\n",
       "      <td>28:83:35:26:bc:f3</td>\n",
       "      <td>-22.813551</td>\n",
       "      <td>-43.247198</td>\n",
       "      <td>2019-11-19 00:00:00.272 UTC</td>\n",
       "    </tr>\n",
       "  </tbody>\n",
       "</table>\n",
       "</div>"
      ],
      "text/plain": [
       "  Building    Level      ClientMacAddr        lat        lng  \\\n",
       "0     TPS2  Level 3  88:e9:fe:ec:8d:95 -22.814076 -43.247676   \n",
       "1     TPS2  Level 3  88:e9:fe:ec:8d:95 -22.814076 -43.247676   \n",
       "2     TPS2  Level 3  b8:27:eb:14:a4:88 -22.813697 -43.247597   \n",
       "3     TPS2  Level 3  b8:27:eb:14:a4:88 -22.813697 -43.247597   \n",
       "4     TPS2  Level 3  28:83:35:26:bc:f3 -22.813551 -43.247198   \n",
       "\n",
       "                     localtime  \n",
       "0   2019-11-19 00:00:00.12 UTC  \n",
       "1   2019-11-19 00:00:00.12 UTC  \n",
       "2  2019-11-19 00:00:00.197 UTC  \n",
       "3  2019-11-19 00:00:00.197 UTC  \n",
       "4  2019-11-19 00:00:00.272 UTC  "
      ]
     },
     "execution_count": 4,
     "metadata": {},
     "output_type": "execute_result"
    }
   ],
   "source": [
    "df1=pd.DataFrame(df.head())\n",
    "df1"
   ]
  },
  {
   "cell_type": "code",
   "execution_count": null,
   "metadata": {},
   "outputs": [],
   "source": [
    "\n"
   ]
  },
  {
   "cell_type": "code",
   "execution_count": 5,
   "metadata": {},
   "outputs": [
    {
     "data": {
      "text/plain": [
       "1034663"
      ]
     },
     "execution_count": 5,
     "metadata": {},
     "output_type": "execute_result"
    }
   ],
   "source": [
    "\n",
    "df =df.drop_duplicates(subset=None, keep='first', inplace=False)\n",
    "len(df)"
   ]
  },
  {
   "cell_type": "code",
   "execution_count": 6,
   "metadata": {},
   "outputs": [],
   "source": [
    "df['localtime'] = pd.to_datetime(df['localtime'], utc=True)\n"
   ]
  },
  {
   "cell_type": "code",
   "execution_count": 7,
   "metadata": {},
   "outputs": [
    {
     "data": {
      "text/plain": [
       "Building          object\n",
       "Level             object\n",
       "ClientMacAddr     object\n",
       "lat              float64\n",
       "lng              float64\n",
       "localtime         object\n",
       "dtype: object"
      ]
     },
     "execution_count": 7,
     "metadata": {},
     "output_type": "execute_result"
    }
   ],
   "source": [
    "df1.dtypes"
   ]
  },
  {
   "cell_type": "code",
   "execution_count": 8,
   "metadata": {},
   "outputs": [
    {
     "data": {
      "text/plain": [
       "1034663"
      ]
     },
     "execution_count": 8,
     "metadata": {},
     "output_type": "execute_result"
    }
   ],
   "source": [
    "df.reset_index(drop=True, inplace=True)\n",
    "df.sort_values(by=['localtime'], ascending=False,inplace = True)\n",
    "len(df)"
   ]
  },
  {
   "cell_type": "code",
   "execution_count": 9,
   "metadata": {},
   "outputs": [
    {
     "data": {
      "text/html": [
       "<div>\n",
       "<style scoped>\n",
       "    .dataframe tbody tr th:only-of-type {\n",
       "        vertical-align: middle;\n",
       "    }\n",
       "\n",
       "    .dataframe tbody tr th {\n",
       "        vertical-align: top;\n",
       "    }\n",
       "\n",
       "    .dataframe thead th {\n",
       "        text-align: right;\n",
       "    }\n",
       "</style>\n",
       "<table border=\"1\" class=\"dataframe\">\n",
       "  <thead>\n",
       "    <tr style=\"text-align: right;\">\n",
       "      <th></th>\n",
       "      <th>Building</th>\n",
       "      <th>Level</th>\n",
       "      <th>ClientMacAddr</th>\n",
       "      <th>lat</th>\n",
       "      <th>lng</th>\n",
       "      <th>localtime</th>\n",
       "    </tr>\n",
       "  </thead>\n",
       "  <tbody>\n",
       "    <tr>\n",
       "      <th>0</th>\n",
       "      <td>TPS2</td>\n",
       "      <td>Level 3</td>\n",
       "      <td>88:e9:fe:ec:8d:95</td>\n",
       "      <td>-22.814076</td>\n",
       "      <td>-43.247676</td>\n",
       "      <td>2019-11-19 00:00:00.12 UTC</td>\n",
       "    </tr>\n",
       "    <tr>\n",
       "      <th>1</th>\n",
       "      <td>TPS2</td>\n",
       "      <td>Level 3</td>\n",
       "      <td>88:e9:fe:ec:8d:95</td>\n",
       "      <td>-22.814076</td>\n",
       "      <td>-43.247676</td>\n",
       "      <td>2019-11-19 00:00:00.12 UTC</td>\n",
       "    </tr>\n",
       "    <tr>\n",
       "      <th>2</th>\n",
       "      <td>TPS2</td>\n",
       "      <td>Level 3</td>\n",
       "      <td>b8:27:eb:14:a4:88</td>\n",
       "      <td>-22.813697</td>\n",
       "      <td>-43.247597</td>\n",
       "      <td>2019-11-19 00:00:00.197 UTC</td>\n",
       "    </tr>\n",
       "    <tr>\n",
       "      <th>3</th>\n",
       "      <td>TPS2</td>\n",
       "      <td>Level 3</td>\n",
       "      <td>b8:27:eb:14:a4:88</td>\n",
       "      <td>-22.813697</td>\n",
       "      <td>-43.247597</td>\n",
       "      <td>2019-11-19 00:00:00.197 UTC</td>\n",
       "    </tr>\n",
       "    <tr>\n",
       "      <th>4</th>\n",
       "      <td>TPS2</td>\n",
       "      <td>Level 3</td>\n",
       "      <td>28:83:35:26:bc:f3</td>\n",
       "      <td>-22.813551</td>\n",
       "      <td>-43.247198</td>\n",
       "      <td>2019-11-19 00:00:00.272 UTC</td>\n",
       "    </tr>\n",
       "  </tbody>\n",
       "</table>\n",
       "</div>"
      ],
      "text/plain": [
       "  Building    Level      ClientMacAddr        lat        lng  \\\n",
       "0     TPS2  Level 3  88:e9:fe:ec:8d:95 -22.814076 -43.247676   \n",
       "1     TPS2  Level 3  88:e9:fe:ec:8d:95 -22.814076 -43.247676   \n",
       "2     TPS2  Level 3  b8:27:eb:14:a4:88 -22.813697 -43.247597   \n",
       "3     TPS2  Level 3  b8:27:eb:14:a4:88 -22.813697 -43.247597   \n",
       "4     TPS2  Level 3  28:83:35:26:bc:f3 -22.813551 -43.247198   \n",
       "\n",
       "                     localtime  \n",
       "0   2019-11-19 00:00:00.12 UTC  \n",
       "1   2019-11-19 00:00:00.12 UTC  \n",
       "2  2019-11-19 00:00:00.197 UTC  \n",
       "3  2019-11-19 00:00:00.197 UTC  \n",
       "4  2019-11-19 00:00:00.272 UTC  "
      ]
     },
     "execution_count": 9,
     "metadata": {},
     "output_type": "execute_result"
    }
   ],
   "source": [
    "df1"
   ]
  },
  {
   "cell_type": "code",
   "execution_count": 10,
   "metadata": {},
   "outputs": [],
   "source": [
    "macid = df1.groupby('ClientMacAddr')"
   ]
  },
  {
   "cell_type": "code",
   "execution_count": 11,
   "metadata": {},
   "outputs": [
    {
     "data": {
      "text/plain": [
       "{'28:83:35:26:bc:f3': Int64Index([4], dtype='int64'),\n",
       " '88:e9:fe:ec:8d:95': Int64Index([0, 1], dtype='int64'),\n",
       " 'b8:27:eb:14:a4:88': Int64Index([2, 3], dtype='int64')}"
      ]
     },
     "execution_count": 11,
     "metadata": {},
     "output_type": "execute_result"
    }
   ],
   "source": [
    "macid.groups"
   ]
  },
  {
   "cell_type": "code",
   "execution_count": 12,
   "metadata": {},
   "outputs": [
    {
     "data": {
      "text/html": [
       "<div>\n",
       "<style scoped>\n",
       "    .dataframe tbody tr th:only-of-type {\n",
       "        vertical-align: middle;\n",
       "    }\n",
       "\n",
       "    .dataframe tbody tr th {\n",
       "        vertical-align: top;\n",
       "    }\n",
       "\n",
       "    .dataframe thead th {\n",
       "        text-align: right;\n",
       "    }\n",
       "</style>\n",
       "<table border=\"1\" class=\"dataframe\">\n",
       "  <thead>\n",
       "    <tr style=\"text-align: right;\">\n",
       "      <th></th>\n",
       "      <th>Building</th>\n",
       "      <th>Level</th>\n",
       "      <th>ClientMacAddr</th>\n",
       "      <th>lat</th>\n",
       "      <th>lng</th>\n",
       "      <th>localtime</th>\n",
       "    </tr>\n",
       "  </thead>\n",
       "  <tbody>\n",
       "    <tr>\n",
       "      <th>4</th>\n",
       "      <td>TPS2</td>\n",
       "      <td>Level 3</td>\n",
       "      <td>28:83:35:26:bc:f3</td>\n",
       "      <td>-22.813551</td>\n",
       "      <td>-43.247198</td>\n",
       "      <td>2019-11-19 00:00:00.272 UTC</td>\n",
       "    </tr>\n",
       "    <tr>\n",
       "      <th>0</th>\n",
       "      <td>TPS2</td>\n",
       "      <td>Level 3</td>\n",
       "      <td>88:e9:fe:ec:8d:95</td>\n",
       "      <td>-22.814076</td>\n",
       "      <td>-43.247676</td>\n",
       "      <td>2019-11-19 00:00:00.12 UTC</td>\n",
       "    </tr>\n",
       "    <tr>\n",
       "      <th>1</th>\n",
       "      <td>TPS2</td>\n",
       "      <td>Level 3</td>\n",
       "      <td>88:e9:fe:ec:8d:95</td>\n",
       "      <td>-22.814076</td>\n",
       "      <td>-43.247676</td>\n",
       "      <td>2019-11-19 00:00:00.12 UTC</td>\n",
       "    </tr>\n",
       "    <tr>\n",
       "      <th>2</th>\n",
       "      <td>TPS2</td>\n",
       "      <td>Level 3</td>\n",
       "      <td>b8:27:eb:14:a4:88</td>\n",
       "      <td>-22.813697</td>\n",
       "      <td>-43.247597</td>\n",
       "      <td>2019-11-19 00:00:00.197 UTC</td>\n",
       "    </tr>\n",
       "    <tr>\n",
       "      <th>3</th>\n",
       "      <td>TPS2</td>\n",
       "      <td>Level 3</td>\n",
       "      <td>b8:27:eb:14:a4:88</td>\n",
       "      <td>-22.813697</td>\n",
       "      <td>-43.247597</td>\n",
       "      <td>2019-11-19 00:00:00.197 UTC</td>\n",
       "    </tr>\n",
       "  </tbody>\n",
       "</table>\n",
       "</div>"
      ],
      "text/plain": [
       "  Building    Level      ClientMacAddr        lat        lng  \\\n",
       "4     TPS2  Level 3  28:83:35:26:bc:f3 -22.813551 -43.247198   \n",
       "0     TPS2  Level 3  88:e9:fe:ec:8d:95 -22.814076 -43.247676   \n",
       "1     TPS2  Level 3  88:e9:fe:ec:8d:95 -22.814076 -43.247676   \n",
       "2     TPS2  Level 3  b8:27:eb:14:a4:88 -22.813697 -43.247597   \n",
       "3     TPS2  Level 3  b8:27:eb:14:a4:88 -22.813697 -43.247597   \n",
       "\n",
       "                     localtime  \n",
       "4  2019-11-19 00:00:00.272 UTC  \n",
       "0   2019-11-19 00:00:00.12 UTC  \n",
       "1   2019-11-19 00:00:00.12 UTC  \n",
       "2  2019-11-19 00:00:00.197 UTC  \n",
       "3  2019-11-19 00:00:00.197 UTC  "
      ]
     },
     "execution_count": 12,
     "metadata": {},
     "output_type": "execute_result"
    }
   ],
   "source": [
    "df1.sort_values(by=['ClientMacAddr'])"
   ]
  },
  {
   "cell_type": "code",
   "execution_count": 13,
   "metadata": {},
   "outputs": [
    {
     "data": {
      "text/html": [
       "<div>\n",
       "<style scoped>\n",
       "    .dataframe tbody tr th:only-of-type {\n",
       "        vertical-align: middle;\n",
       "    }\n",
       "\n",
       "    .dataframe tbody tr th {\n",
       "        vertical-align: top;\n",
       "    }\n",
       "\n",
       "    .dataframe thead th {\n",
       "        text-align: right;\n",
       "    }\n",
       "</style>\n",
       "<table border=\"1\" class=\"dataframe\">\n",
       "  <thead>\n",
       "    <tr style=\"text-align: right;\">\n",
       "      <th></th>\n",
       "      <th>0</th>\n",
       "    </tr>\n",
       "    <tr>\n",
       "      <th>ClientMacAddr</th>\n",
       "      <th></th>\n",
       "    </tr>\n",
       "  </thead>\n",
       "  <tbody>\n",
       "    <tr>\n",
       "      <th>38:01:95:38:cf:bc</th>\n",
       "      <td>7265</td>\n",
       "    </tr>\n",
       "    <tr>\n",
       "      <th>c0:a5:dd:17:fb:06</th>\n",
       "      <td>7104</td>\n",
       "    </tr>\n",
       "    <tr>\n",
       "      <th>38:01:95:36:c0:aa</th>\n",
       "      <td>7049</td>\n",
       "    </tr>\n",
       "    <tr>\n",
       "      <th>94:10:3e:0c:c2:f3</th>\n",
       "      <td>6458</td>\n",
       "    </tr>\n",
       "    <tr>\n",
       "      <th>38:01:95:37:74:e0</th>\n",
       "      <td>6448</td>\n",
       "    </tr>\n",
       "    <tr>\n",
       "      <th>...</th>\n",
       "      <td>...</td>\n",
       "    </tr>\n",
       "    <tr>\n",
       "      <th>0c:cb:85:fd:6e:d0</th>\n",
       "      <td>1</td>\n",
       "    </tr>\n",
       "    <tr>\n",
       "      <th>8c:f1:12:00:48:39</th>\n",
       "      <td>1</td>\n",
       "    </tr>\n",
       "    <tr>\n",
       "      <th>8c:f1:12:01:0d:74</th>\n",
       "      <td>1</td>\n",
       "    </tr>\n",
       "    <tr>\n",
       "      <th>8c:f1:12:01:40:7a</th>\n",
       "      <td>1</td>\n",
       "    </tr>\n",
       "    <tr>\n",
       "      <th>9a:c8:c6:10:c0:83</th>\n",
       "      <td>1</td>\n",
       "    </tr>\n",
       "  </tbody>\n",
       "</table>\n",
       "<p>90935 rows × 1 columns</p>\n",
       "</div>"
      ],
      "text/plain": [
       "                      0\n",
       "ClientMacAddr          \n",
       "38:01:95:38:cf:bc  7265\n",
       "c0:a5:dd:17:fb:06  7104\n",
       "38:01:95:36:c0:aa  7049\n",
       "94:10:3e:0c:c2:f3  6458\n",
       "38:01:95:37:74:e0  6448\n",
       "...                 ...\n",
       "0c:cb:85:fd:6e:d0     1\n",
       "8c:f1:12:00:48:39     1\n",
       "8c:f1:12:01:0d:74     1\n",
       "8c:f1:12:01:40:7a     1\n",
       "9a:c8:c6:10:c0:83     1\n",
       "\n",
       "[90935 rows x 1 columns]"
      ]
     },
     "execution_count": 13,
     "metadata": {},
     "output_type": "execute_result"
    }
   ],
   "source": [
    "pd.DataFrame(df.groupby(['ClientMacAddr']).size()).sort_values(by=[0], ascending=False) "
   ]
  },
  {
   "cell_type": "markdown",
   "metadata": {},
   "source": [
    "### 38:01:95:38:cf:bc\t7265"
   ]
  },
  {
   "cell_type": "code",
   "execution_count": 14,
   "metadata": {},
   "outputs": [
    {
     "data": {
      "text/plain": [
       "Timedelta('0 days 23:58:47.933000')"
      ]
     },
     "execution_count": 14,
     "metadata": {},
     "output_type": "execute_result"
    }
   ],
   "source": [
    "df[df['ClientMacAddr'] == '38:01:95:37:74:e0']['localtime'].max() - df[df['ClientMacAddr'] == '38:01:95:37:74:e0']['localtime'].min()"
   ]
  },
  {
   "cell_type": "markdown",
   "metadata": {},
   "source": [
    "### c0:a5:dd:17:fb:06\t7104"
   ]
  },
  {
   "cell_type": "code",
   "execution_count": 15,
   "metadata": {},
   "outputs": [
    {
     "data": {
      "text/plain": [
       "Timedelta('0 days 23:59:49.928000')"
      ]
     },
     "execution_count": 15,
     "metadata": {},
     "output_type": "execute_result"
    }
   ],
   "source": [
    "df[df['ClientMacAddr'] == 'c0:a5:dd:17:fb:06']['localtime'].max() - df[df['ClientMacAddr'] == 'c0:a5:dd:17:fb:06']['localtime'].min()"
   ]
  },
  {
   "cell_type": "markdown",
   "metadata": {},
   "source": [
    "### 38:01:95:36:c0:aa\t7049"
   ]
  },
  {
   "cell_type": "code",
   "execution_count": 16,
   "metadata": {},
   "outputs": [
    {
     "data": {
      "text/plain": [
       "Timedelta('0 days 23:59:44.029000')"
      ]
     },
     "execution_count": 16,
     "metadata": {},
     "output_type": "execute_result"
    }
   ],
   "source": [
    "df[df['ClientMacAddr'] == '38:01:95:36:c0:aa']['localtime'].max() - df[df['ClientMacAddr'] == '38:01:95:36:c0:aa']['localtime'].min()"
   ]
  },
  {
   "cell_type": "code",
   "execution_count": 17,
   "metadata": {},
   "outputs": [],
   "source": [
    "count_mac = pd.DataFrame(df.groupby(['ClientMacAddr']).size()).sort_values(by=[0], ascending=False) "
   ]
  },
  {
   "cell_type": "code",
   "execution_count": 18,
   "metadata": {},
   "outputs": [
    {
     "data": {
      "text/html": [
       "<div>\n",
       "<style scoped>\n",
       "    .dataframe tbody tr th:only-of-type {\n",
       "        vertical-align: middle;\n",
       "    }\n",
       "\n",
       "    .dataframe tbody tr th {\n",
       "        vertical-align: top;\n",
       "    }\n",
       "\n",
       "    .dataframe thead th {\n",
       "        text-align: right;\n",
       "    }\n",
       "</style>\n",
       "<table border=\"1\" class=\"dataframe\">\n",
       "  <thead>\n",
       "    <tr style=\"text-align: right;\">\n",
       "      <th></th>\n",
       "      <th>0</th>\n",
       "    </tr>\n",
       "    <tr>\n",
       "      <th>ClientMacAddr</th>\n",
       "      <th></th>\n",
       "    </tr>\n",
       "  </thead>\n",
       "  <tbody>\n",
       "    <tr>\n",
       "      <th>38:01:95:38:cf:bc</th>\n",
       "      <td>7265</td>\n",
       "    </tr>\n",
       "    <tr>\n",
       "      <th>c0:a5:dd:17:fb:06</th>\n",
       "      <td>7104</td>\n",
       "    </tr>\n",
       "    <tr>\n",
       "      <th>38:01:95:36:c0:aa</th>\n",
       "      <td>7049</td>\n",
       "    </tr>\n",
       "    <tr>\n",
       "      <th>94:10:3e:0c:c2:f3</th>\n",
       "      <td>6458</td>\n",
       "    </tr>\n",
       "    <tr>\n",
       "      <th>38:01:95:37:74:e0</th>\n",
       "      <td>6448</td>\n",
       "    </tr>\n",
       "    <tr>\n",
       "      <th>...</th>\n",
       "      <td>...</td>\n",
       "    </tr>\n",
       "    <tr>\n",
       "      <th>0c:cb:85:fd:6e:d0</th>\n",
       "      <td>1</td>\n",
       "    </tr>\n",
       "    <tr>\n",
       "      <th>8c:f1:12:00:48:39</th>\n",
       "      <td>1</td>\n",
       "    </tr>\n",
       "    <tr>\n",
       "      <th>8c:f1:12:01:0d:74</th>\n",
       "      <td>1</td>\n",
       "    </tr>\n",
       "    <tr>\n",
       "      <th>8c:f1:12:01:40:7a</th>\n",
       "      <td>1</td>\n",
       "    </tr>\n",
       "    <tr>\n",
       "      <th>9a:c8:c6:10:c0:83</th>\n",
       "      <td>1</td>\n",
       "    </tr>\n",
       "  </tbody>\n",
       "</table>\n",
       "<p>90935 rows × 1 columns</p>\n",
       "</div>"
      ],
      "text/plain": [
       "                      0\n",
       "ClientMacAddr          \n",
       "38:01:95:38:cf:bc  7265\n",
       "c0:a5:dd:17:fb:06  7104\n",
       "38:01:95:36:c0:aa  7049\n",
       "94:10:3e:0c:c2:f3  6458\n",
       "38:01:95:37:74:e0  6448\n",
       "...                 ...\n",
       "0c:cb:85:fd:6e:d0     1\n",
       "8c:f1:12:00:48:39     1\n",
       "8c:f1:12:01:0d:74     1\n",
       "8c:f1:12:01:40:7a     1\n",
       "9a:c8:c6:10:c0:83     1\n",
       "\n",
       "[90935 rows x 1 columns]"
      ]
     },
     "execution_count": 18,
     "metadata": {},
     "output_type": "execute_result"
    }
   ],
   "source": [
    "count_mac"
   ]
  },
  {
   "cell_type": "code",
   "execution_count": 19,
   "metadata": {},
   "outputs": [],
   "source": [
    "df1 = count_mac[count_mac[0].between(40, 41)]"
   ]
  },
  {
   "cell_type": "code",
   "execution_count": 20,
   "metadata": {},
   "outputs": [
    {
     "data": {
      "text/html": [
       "<div>\n",
       "<style scoped>\n",
       "    .dataframe tbody tr th:only-of-type {\n",
       "        vertical-align: middle;\n",
       "    }\n",
       "\n",
       "    .dataframe tbody tr th {\n",
       "        vertical-align: top;\n",
       "    }\n",
       "\n",
       "    .dataframe thead th {\n",
       "        text-align: right;\n",
       "    }\n",
       "</style>\n",
       "<table border=\"1\" class=\"dataframe\">\n",
       "  <thead>\n",
       "    <tr style=\"text-align: right;\">\n",
       "      <th></th>\n",
       "      <th>0</th>\n",
       "    </tr>\n",
       "    <tr>\n",
       "      <th>ClientMacAddr</th>\n",
       "      <th></th>\n",
       "    </tr>\n",
       "  </thead>\n",
       "  <tbody>\n",
       "    <tr>\n",
       "      <th>58:d9:c3:79:b8:90</th>\n",
       "      <td>41</td>\n",
       "    </tr>\n",
       "    <tr>\n",
       "      <th>40:b0:76:1e:5c:d6</th>\n",
       "      <td>41</td>\n",
       "    </tr>\n",
       "    <tr>\n",
       "      <th>24:46:c8:df:cb:e3</th>\n",
       "      <td>41</td>\n",
       "    </tr>\n",
       "    <tr>\n",
       "      <th>24:46:c8:e0:31:5f</th>\n",
       "      <td>41</td>\n",
       "    </tr>\n",
       "    <tr>\n",
       "      <th>30:07:4d:6e:fb:1b</th>\n",
       "      <td>41</td>\n",
       "    </tr>\n",
       "    <tr>\n",
       "      <th>...</th>\n",
       "      <td>...</td>\n",
       "    </tr>\n",
       "    <tr>\n",
       "      <th>08:c5:e1:30:b2:2b</th>\n",
       "      <td>40</td>\n",
       "    </tr>\n",
       "    <tr>\n",
       "      <th>88:b4:a6:65:a6:0a</th>\n",
       "      <td>40</td>\n",
       "    </tr>\n",
       "    <tr>\n",
       "      <th>b4:bf:f6:95:8d:4b</th>\n",
       "      <td>40</td>\n",
       "    </tr>\n",
       "    <tr>\n",
       "      <th>48:49:c7:2e:43:e2</th>\n",
       "      <td>40</td>\n",
       "    </tr>\n",
       "    <tr>\n",
       "      <th>d0:81:7a:64:5a:71</th>\n",
       "      <td>40</td>\n",
       "    </tr>\n",
       "  </tbody>\n",
       "</table>\n",
       "<p>216 rows × 1 columns</p>\n",
       "</div>"
      ],
      "text/plain": [
       "                    0\n",
       "ClientMacAddr        \n",
       "58:d9:c3:79:b8:90  41\n",
       "40:b0:76:1e:5c:d6  41\n",
       "24:46:c8:df:cb:e3  41\n",
       "24:46:c8:e0:31:5f  41\n",
       "30:07:4d:6e:fb:1b  41\n",
       "...                ..\n",
       "08:c5:e1:30:b2:2b  40\n",
       "88:b4:a6:65:a6:0a  40\n",
       "b4:bf:f6:95:8d:4b  40\n",
       "48:49:c7:2e:43:e2  40\n",
       "d0:81:7a:64:5a:71  40\n",
       "\n",
       "[216 rows x 1 columns]"
      ]
     },
     "execution_count": 20,
     "metadata": {},
     "output_type": "execute_result"
    }
   ],
   "source": [
    "df1"
   ]
  },
  {
   "cell_type": "markdown",
   "metadata": {},
   "source": [
    "### 2a:17:40:73:70:95\t10"
   ]
  },
  {
   "cell_type": "code",
   "execution_count": 21,
   "metadata": {},
   "outputs": [
    {
     "data": {
      "text/plain": [
       "Timedelta('0 days 00:03:58.068000')"
      ]
     },
     "execution_count": 21,
     "metadata": {},
     "output_type": "execute_result"
    }
   ],
   "source": [
    "df[df['ClientMacAddr'] == '2a:17:40:73:70:95']['localtime'].max() - df[df['ClientMacAddr'] == '2a:17:40:73:70:95']['localtime'].min()"
   ]
  },
  {
   "cell_type": "markdown",
   "metadata": {},
   "source": [
    "### 74:e1:b6:f0:58:75\t14"
   ]
  },
  {
   "cell_type": "code",
   "execution_count": 22,
   "metadata": {},
   "outputs": [
    {
     "data": {
      "text/plain": [
       "Timedelta('0 days 00:07:26.621000')"
      ]
     },
     "execution_count": 22,
     "metadata": {},
     "output_type": "execute_result"
    }
   ],
   "source": [
    "df[df['ClientMacAddr'] == '74:e1:b6:f0:58:75']['localtime'].max() - df[df['ClientMacAddr'] == '74:e1:b6:f0:58:75']['localtime'].min()"
   ]
  },
  {
   "cell_type": "markdown",
   "metadata": {},
   "source": [
    "### a8:96:75:1b:b4:59\t40"
   ]
  },
  {
   "cell_type": "code",
   "execution_count": 23,
   "metadata": {},
   "outputs": [
    {
     "data": {
      "text/plain": [
       "Timedelta('0 days 00:18:37.982000')"
      ]
     },
     "execution_count": 23,
     "metadata": {},
     "output_type": "execute_result"
    }
   ],
   "source": [
    "df[df['ClientMacAddr'] == 'a8:96:75:1b:b4:59']['localtime'].max() - df[df['ClientMacAddr'] == 'a8:96:75:1b:b4:59']['localtime'].min()"
   ]
  },
  {
   "cell_type": "code",
   "execution_count": 24,
   "metadata": {},
   "outputs": [
    {
     "data": {
      "text/html": [
       "<div>\n",
       "<style scoped>\n",
       "    .dataframe tbody tr th:only-of-type {\n",
       "        vertical-align: middle;\n",
       "    }\n",
       "\n",
       "    .dataframe tbody tr th {\n",
       "        vertical-align: top;\n",
       "    }\n",
       "\n",
       "    .dataframe thead th {\n",
       "        text-align: right;\n",
       "    }\n",
       "</style>\n",
       "<table border=\"1\" class=\"dataframe\">\n",
       "  <thead>\n",
       "    <tr style=\"text-align: right;\">\n",
       "      <th></th>\n",
       "      <th>0</th>\n",
       "    </tr>\n",
       "    <tr>\n",
       "      <th>ClientMacAddr</th>\n",
       "      <th></th>\n",
       "    </tr>\n",
       "  </thead>\n",
       "  <tbody>\n",
       "    <tr>\n",
       "      <th>00:b5:d0:d1:b2:9b</th>\n",
       "      <td>26</td>\n",
       "    </tr>\n",
       "    <tr>\n",
       "      <th>54:fc:f0:31:6e:08</th>\n",
       "      <td>26</td>\n",
       "    </tr>\n",
       "    <tr>\n",
       "      <th>fc:a6:21:14:32:a7</th>\n",
       "      <td>26</td>\n",
       "    </tr>\n",
       "    <tr>\n",
       "      <th>e8:93:09:60:6c:54</th>\n",
       "      <td>26</td>\n",
       "    </tr>\n",
       "    <tr>\n",
       "      <th>ac:0d:1b:c9:60:ab</th>\n",
       "      <td>26</td>\n",
       "    </tr>\n",
       "    <tr>\n",
       "      <th>...</th>\n",
       "      <td>...</td>\n",
       "    </tr>\n",
       "    <tr>\n",
       "      <th>38:9a:f6:ee:d2:ed</th>\n",
       "      <td>25</td>\n",
       "    </tr>\n",
       "    <tr>\n",
       "      <th>70:bb:e9:dc:b0:2d</th>\n",
       "      <td>25</td>\n",
       "    </tr>\n",
       "    <tr>\n",
       "      <th>10:98:c3:c9:fe:bf</th>\n",
       "      <td>25</td>\n",
       "    </tr>\n",
       "    <tr>\n",
       "      <th>5c:f7:e6:b8:2c:d9</th>\n",
       "      <td>25</td>\n",
       "    </tr>\n",
       "    <tr>\n",
       "      <th>60:30:d4:31:8a:b6</th>\n",
       "      <td>25</td>\n",
       "    </tr>\n",
       "  </tbody>\n",
       "</table>\n",
       "<p>308 rows × 1 columns</p>\n",
       "</div>"
      ],
      "text/plain": [
       "                    0\n",
       "ClientMacAddr        \n",
       "00:b5:d0:d1:b2:9b  26\n",
       "54:fc:f0:31:6e:08  26\n",
       "fc:a6:21:14:32:a7  26\n",
       "e8:93:09:60:6c:54  26\n",
       "ac:0d:1b:c9:60:ab  26\n",
       "...                ..\n",
       "38:9a:f6:ee:d2:ed  25\n",
       "70:bb:e9:dc:b0:2d  25\n",
       "10:98:c3:c9:fe:bf  25\n",
       "5c:f7:e6:b8:2c:d9  25\n",
       "60:30:d4:31:8a:b6  25\n",
       "\n",
       "[308 rows x 1 columns]"
      ]
     },
     "execution_count": 24,
     "metadata": {},
     "output_type": "execute_result"
    }
   ],
   "source": [
    "df1 = count_mac[count_mac[0].between(25,26)]\n",
    "df1"
   ]
  },
  {
   "cell_type": "code",
   "execution_count": null,
   "metadata": {},
   "outputs": [],
   "source": []
  },
  {
   "cell_type": "markdown",
   "metadata": {},
   "source": [
    "### occured 40 times. difference in their locations "
   ]
  },
  {
   "cell_type": "code",
   "execution_count": 25,
   "metadata": {},
   "outputs": [
    {
     "data": {
      "text/plain": [
       "(0.0018894096384336478, 0.0019952372924549877)"
      ]
     },
     "execution_count": 25,
     "metadata": {},
     "output_type": "execute_result"
    }
   ],
   "source": [
    "(df[df['ClientMacAddr'] == 'a8:96:75:1b:b4:59']['lat'].max() - df[df['ClientMacAddr'] == 'a8:96:75:1b:b4:59']['lat'].min(),df[df['ClientMacAddr'] == 'a8:96:75:1b:b4:59']['lng'].max() - df[df['ClientMacAddr'] == 'a8:96:75:1b:b4:59']['lng'].min())"
   ]
  },
  {
   "cell_type": "code",
   "execution_count": 26,
   "metadata": {},
   "outputs": [],
   "source": [
    "x = [df[df['ClientMacAddr'] == '98:39:8e:ad:6d:cb']['lat']]"
   ]
  },
  {
   "cell_type": "code",
   "execution_count": 27,
   "metadata": {},
   "outputs": [],
   "source": [
    "y=[df[df['ClientMacAddr'] == '98:39:8e:ad:6d:cb']['lng']]"
   ]
  },
  {
   "cell_type": "code",
   "execution_count": 28,
   "metadata": {},
   "outputs": [
    {
     "data": {
      "image/png": "[encoded data removed]",
      "text/plain": [
       "<Figure size 432x288 with 1 Axes>"
      ]
     },
     "metadata": {
      "needs_background": "light"
     },
     "output_type": "display_data"
    }
   ],
   "source": [
    "import matplotlib.pyplot as plt\n",
    "\n",
    "plt.plot(x, y, color='green', marker='o', linestyle='dashed', linewidth=1, markersize=1)\n",
    "plt.show()"
   ]
  },
  {
   "cell_type": "code",
   "execution_count": 29,
   "metadata": {},
   "outputs": [
    {
     "data": {
      "text/html": [
       "<div>\n",
       "<style scoped>\n",
       "    .dataframe tbody tr th:only-of-type {\n",
       "        vertical-align: middle;\n",
       "    }\n",
       "\n",
       "    .dataframe tbody tr th {\n",
       "        vertical-align: top;\n",
       "    }\n",
       "\n",
       "    .dataframe thead th {\n",
       "        text-align: right;\n",
       "    }\n",
       "</style>\n",
       "<table border=\"1\" class=\"dataframe\">\n",
       "  <thead>\n",
       "    <tr style=\"text-align: right;\">\n",
       "      <th></th>\n",
       "      <th>0</th>\n",
       "    </tr>\n",
       "    <tr>\n",
       "      <th>ClientMacAddr</th>\n",
       "      <th></th>\n",
       "    </tr>\n",
       "  </thead>\n",
       "  <tbody>\n",
       "    <tr>\n",
       "      <th>14:58:d0:72:e7:91</th>\n",
       "      <td>56</td>\n",
       "    </tr>\n",
       "    <tr>\n",
       "      <th>5c:c9:d3:88:c9:db</th>\n",
       "      <td>56</td>\n",
       "    </tr>\n",
       "    <tr>\n",
       "      <th>0c:cb:85:bb:52:f3</th>\n",
       "      <td>56</td>\n",
       "    </tr>\n",
       "    <tr>\n",
       "      <th>d8:9c:67:fe:64:cb</th>\n",
       "      <td>56</td>\n",
       "    </tr>\n",
       "    <tr>\n",
       "      <th>7c:8b:b5:2e:f3:43</th>\n",
       "      <td>56</td>\n",
       "    </tr>\n",
       "    <tr>\n",
       "      <th>...</th>\n",
       "      <td>...</td>\n",
       "    </tr>\n",
       "    <tr>\n",
       "      <th>e4:2b:34:23:65:50</th>\n",
       "      <td>55</td>\n",
       "    </tr>\n",
       "    <tr>\n",
       "      <th>80:58:f8:a4:e2:05</th>\n",
       "      <td>55</td>\n",
       "    </tr>\n",
       "    <tr>\n",
       "      <th>44:91:60:85:62:59</th>\n",
       "      <td>55</td>\n",
       "    </tr>\n",
       "    <tr>\n",
       "      <th>7c:8b:b5:97:41:cd</th>\n",
       "      <td>55</td>\n",
       "    </tr>\n",
       "    <tr>\n",
       "      <th>c0:b6:58:07:89:79</th>\n",
       "      <td>55</td>\n",
       "    </tr>\n",
       "  </tbody>\n",
       "</table>\n",
       "<p>147 rows × 1 columns</p>\n",
       "</div>"
      ],
      "text/plain": [
       "                    0\n",
       "ClientMacAddr        \n",
       "14:58:d0:72:e7:91  56\n",
       "5c:c9:d3:88:c9:db  56\n",
       "0c:cb:85:bb:52:f3  56\n",
       "d8:9c:67:fe:64:cb  56\n",
       "7c:8b:b5:2e:f3:43  56\n",
       "...                ..\n",
       "e4:2b:34:23:65:50  55\n",
       "80:58:f8:a4:e2:05  55\n",
       "44:91:60:85:62:59  55\n",
       "7c:8b:b5:97:41:cd  55\n",
       "c0:b6:58:07:89:79  55\n",
       "\n",
       "[147 rows x 1 columns]"
      ]
     },
     "execution_count": 29,
     "metadata": {},
     "output_type": "execute_result"
    }
   ],
   "source": [
    "df1 = count_mac[count_mac[0].between(55,56)]\n",
    "df1"
   ]
  },
  {
   "cell_type": "code",
   "execution_count": 30,
   "metadata": {},
   "outputs": [
    {
     "data": {
      "image/png": "[encoded data removed]",
      "text/plain": [
       "<Figure size 432x288 with 1 Axes>"
      ]
     },
     "metadata": {
      "needs_background": "light"
     },
     "output_type": "display_data"
    }
   ],
   "source": [
    "macid = '44:91:60:85:62:59'\n",
    "x = [df[df['ClientMacAddr'] == macid]['lat']]\n",
    "y=[df[df['ClientMacAddr'] == macid]['lng']]\n",
    "\n",
    "plt.plot(x, y, color='green', marker='o', linestyle='dashed', linewidth=2, markersize=1)\n",
    "plt.show()"
   ]
  },
  {
   "cell_type": "code",
   "execution_count": 31,
   "metadata": {},
   "outputs": [
    {
     "data": {
      "text/html": [
       "<div>\n",
       "<style scoped>\n",
       "    .dataframe tbody tr th:only-of-type {\n",
       "        vertical-align: middle;\n",
       "    }\n",
       "\n",
       "    .dataframe tbody tr th {\n",
       "        vertical-align: top;\n",
       "    }\n",
       "\n",
       "    .dataframe thead th {\n",
       "        text-align: right;\n",
       "    }\n",
       "</style>\n",
       "<table border=\"1\" class=\"dataframe\">\n",
       "  <thead>\n",
       "    <tr style=\"text-align: right;\">\n",
       "      <th></th>\n",
       "      <th>0</th>\n",
       "    </tr>\n",
       "    <tr>\n",
       "      <th>ClientMacAddr</th>\n",
       "      <th></th>\n",
       "    </tr>\n",
       "  </thead>\n",
       "  <tbody>\n",
       "    <tr>\n",
       "      <th>a4:b8:05:c5:46:73</th>\n",
       "      <td>100</td>\n",
       "    </tr>\n",
       "    <tr>\n",
       "      <th>48:49:c7:df:23:84</th>\n",
       "      <td>100</td>\n",
       "    </tr>\n",
       "    <tr>\n",
       "      <th>fc:64:3a:74:57:d8</th>\n",
       "      <td>100</td>\n",
       "    </tr>\n",
       "    <tr>\n",
       "      <th>44:91:60:64:d8:9d</th>\n",
       "      <td>100</td>\n",
       "    </tr>\n",
       "    <tr>\n",
       "      <th>60:1d:91:04:d6:f7</th>\n",
       "      <td>100</td>\n",
       "    </tr>\n",
       "    <tr>\n",
       "      <th>44:91:60:ce:d7:45</th>\n",
       "      <td>100</td>\n",
       "    </tr>\n",
       "    <tr>\n",
       "      <th>88:79:7e:6b:83:3b</th>\n",
       "      <td>100</td>\n",
       "    </tr>\n",
       "    <tr>\n",
       "      <th>0c:cb:85:93:8b:cf</th>\n",
       "      <td>100</td>\n",
       "    </tr>\n",
       "    <tr>\n",
       "      <th>04:d4:c4:9c:41:7d</th>\n",
       "      <td>100</td>\n",
       "    </tr>\n",
       "    <tr>\n",
       "      <th>38:9a:f6:96:29:ab</th>\n",
       "      <td>100</td>\n",
       "    </tr>\n",
       "    <tr>\n",
       "      <th>50:92:b9:dc:a4:22</th>\n",
       "      <td>100</td>\n",
       "    </tr>\n",
       "    <tr>\n",
       "      <th>68:7d:6b:11:91:7b</th>\n",
       "      <td>100</td>\n",
       "    </tr>\n",
       "    <tr>\n",
       "      <th>7c:8b:b5:39:6b:bd</th>\n",
       "      <td>100</td>\n",
       "    </tr>\n",
       "    <tr>\n",
       "      <th>28:83:35:73:0a:65</th>\n",
       "      <td>100</td>\n",
       "    </tr>\n",
       "    <tr>\n",
       "      <th>7c:8b:b5:30:42:f5</th>\n",
       "      <td>100</td>\n",
       "    </tr>\n",
       "    <tr>\n",
       "      <th>a8:96:75:43:51:3b</th>\n",
       "      <td>100</td>\n",
       "    </tr>\n",
       "    <tr>\n",
       "      <th>68:c4:4d:61:ad:4d</th>\n",
       "      <td>100</td>\n",
       "    </tr>\n",
       "    <tr>\n",
       "      <th>f4:f5:24:8e:42:28</th>\n",
       "      <td>100</td>\n",
       "    </tr>\n",
       "    <tr>\n",
       "      <th>74:b5:87:83:a1:19</th>\n",
       "      <td>100</td>\n",
       "    </tr>\n",
       "    <tr>\n",
       "      <th>2c:33:61:96:9e:c6</th>\n",
       "      <td>100</td>\n",
       "    </tr>\n",
       "    <tr>\n",
       "      <th>88:b4:a6:a3:6b:1f</th>\n",
       "      <td>100</td>\n",
       "    </tr>\n",
       "    <tr>\n",
       "      <th>18:89:5b:44:e8:f1</th>\n",
       "      <td>100</td>\n",
       "    </tr>\n",
       "    <tr>\n",
       "      <th>38:80:df:ae:2f:3e</th>\n",
       "      <td>100</td>\n",
       "    </tr>\n",
       "    <tr>\n",
       "      <th>d8:1c:79:5b:de:e5</th>\n",
       "      <td>100</td>\n",
       "    </tr>\n",
       "    <tr>\n",
       "      <th>a8:16:d0:bc:00:25</th>\n",
       "      <td>100</td>\n",
       "    </tr>\n",
       "    <tr>\n",
       "      <th>24:c6:96:99:76:a7</th>\n",
       "      <td>100</td>\n",
       "    </tr>\n",
       "    <tr>\n",
       "      <th>a8:16:d0:1c:f0:3d</th>\n",
       "      <td>99</td>\n",
       "    </tr>\n",
       "    <tr>\n",
       "      <th>48:e2:44:78:d2:15</th>\n",
       "      <td>99</td>\n",
       "    </tr>\n",
       "    <tr>\n",
       "      <th>04:d6:aa:d0:07:33</th>\n",
       "      <td>99</td>\n",
       "    </tr>\n",
       "    <tr>\n",
       "      <th>a8:16:d0:39:ea:05</th>\n",
       "      <td>99</td>\n",
       "    </tr>\n",
       "    <tr>\n",
       "      <th>fc:64:3a:db:59:9e</th>\n",
       "      <td>99</td>\n",
       "    </tr>\n",
       "    <tr>\n",
       "      <th>f0:99:b6:3c:62:7b</th>\n",
       "      <td>99</td>\n",
       "    </tr>\n",
       "    <tr>\n",
       "      <th>dc:0b:34:d5:38:be</th>\n",
       "      <td>99</td>\n",
       "    </tr>\n",
       "    <tr>\n",
       "      <th>fc:64:3a:63:73:cc</th>\n",
       "      <td>99</td>\n",
       "    </tr>\n",
       "    <tr>\n",
       "      <th>58:d9:c3:76:c7:24</th>\n",
       "      <td>99</td>\n",
       "    </tr>\n",
       "    <tr>\n",
       "      <th>74:d2:1d:d7:bf:2f</th>\n",
       "      <td>99</td>\n",
       "    </tr>\n",
       "    <tr>\n",
       "      <th>f8:e9:4e:dd:73:44</th>\n",
       "      <td>99</td>\n",
       "    </tr>\n",
       "    <tr>\n",
       "      <th>10:98:c3:2b:4a:c3</th>\n",
       "      <td>99</td>\n",
       "    </tr>\n",
       "    <tr>\n",
       "      <th>c0:e8:62:0e:43:9b</th>\n",
       "      <td>99</td>\n",
       "    </tr>\n",
       "    <tr>\n",
       "      <th>30:4b:07:1f:3f:6c</th>\n",
       "      <td>99</td>\n",
       "    </tr>\n",
       "    <tr>\n",
       "      <th>d4:63:c6:a5:ec:3b</th>\n",
       "      <td>99</td>\n",
       "    </tr>\n",
       "    <tr>\n",
       "      <th>bc:4c:c4:b6:57:bd</th>\n",
       "      <td>99</td>\n",
       "    </tr>\n",
       "    <tr>\n",
       "      <th>bc:6c:21:be:1f:48</th>\n",
       "      <td>99</td>\n",
       "    </tr>\n",
       "    <tr>\n",
       "      <th>34:29:12:28:56:80</th>\n",
       "      <td>99</td>\n",
       "    </tr>\n",
       "    <tr>\n",
       "      <th>b4:c4:fc:5e:39:34</th>\n",
       "      <td>99</td>\n",
       "    </tr>\n",
       "  </tbody>\n",
       "</table>\n",
       "</div>"
      ],
      "text/plain": [
       "                     0\n",
       "ClientMacAddr         \n",
       "a4:b8:05:c5:46:73  100\n",
       "48:49:c7:df:23:84  100\n",
       "fc:64:3a:74:57:d8  100\n",
       "44:91:60:64:d8:9d  100\n",
       "60:1d:91:04:d6:f7  100\n",
       "44:91:60:ce:d7:45  100\n",
       "88:79:7e:6b:83:3b  100\n",
       "0c:cb:85:93:8b:cf  100\n",
       "04:d4:c4:9c:41:7d  100\n",
       "38:9a:f6:96:29:ab  100\n",
       "50:92:b9:dc:a4:22  100\n",
       "68:7d:6b:11:91:7b  100\n",
       "7c:8b:b5:39:6b:bd  100\n",
       "28:83:35:73:0a:65  100\n",
       "7c:8b:b5:30:42:f5  100\n",
       "a8:96:75:43:51:3b  100\n",
       "68:c4:4d:61:ad:4d  100\n",
       "f4:f5:24:8e:42:28  100\n",
       "74:b5:87:83:a1:19  100\n",
       "2c:33:61:96:9e:c6  100\n",
       "88:b4:a6:a3:6b:1f  100\n",
       "18:89:5b:44:e8:f1  100\n",
       "38:80:df:ae:2f:3e  100\n",
       "d8:1c:79:5b:de:e5  100\n",
       "a8:16:d0:bc:00:25  100\n",
       "24:c6:96:99:76:a7  100\n",
       "a8:16:d0:1c:f0:3d   99\n",
       "48:e2:44:78:d2:15   99\n",
       "04:d6:aa:d0:07:33   99\n",
       "a8:16:d0:39:ea:05   99\n",
       "fc:64:3a:db:59:9e   99\n",
       "f0:99:b6:3c:62:7b   99\n",
       "dc:0b:34:d5:38:be   99\n",
       "fc:64:3a:63:73:cc   99\n",
       "58:d9:c3:76:c7:24   99\n",
       "74:d2:1d:d7:bf:2f   99\n",
       "f8:e9:4e:dd:73:44   99\n",
       "10:98:c3:2b:4a:c3   99\n",
       "c0:e8:62:0e:43:9b   99\n",
       "30:4b:07:1f:3f:6c   99\n",
       "d4:63:c6:a5:ec:3b   99\n",
       "bc:4c:c4:b6:57:bd   99\n",
       "bc:6c:21:be:1f:48   99\n",
       "34:29:12:28:56:80   99\n",
       "b4:c4:fc:5e:39:34   99"
      ]
     },
     "execution_count": 31,
     "metadata": {},
     "output_type": "execute_result"
    }
   ],
   "source": [
    "df1 = count_mac[count_mac[0].between(99,100)]\n",
    "df1"
   ]
  },
  {
   "cell_type": "code",
   "execution_count": 32,
   "metadata": {},
   "outputs": [
    {
     "data": {
      "image/png": "[encoded data removed]",
      "text/plain": [
       "<Figure size 432x288 with 1 Axes>"
      ]
     },
     "metadata": {
      "needs_background": "light"
     },
     "output_type": "display_data"
    }
   ],
   "source": [
    "macid = 'd4:63:c6:a5:ec:3b'\n",
    "x = [df[df['ClientMacAddr'] == macid]['lat']]\n",
    "y=[df[df['ClientMacAddr'] == macid]['lng']]\n",
    "\n",
    "plt.plot(x, y, color='green', marker='o', linestyle='dashed', linewidth=2, markersize=1)\n",
    "plt.show()"
   ]
  },
  {
   "cell_type": "code",
   "execution_count": 33,
   "metadata": {},
   "outputs": [
    {
     "data": {
      "image/png": "[encoded data removed]",
      "text/plain": [
       "<Figure size 432x288 with 1 Axes>"
      ]
     },
     "metadata": {
      "needs_background": "light"
     },
     "output_type": "display_data"
    }
   ],
   "source": [
    "macid = 'ac:0d:1b:c9:60:ab'\n",
    "x = [df[df['ClientMacAddr'] == macid]['lat']]\n",
    "y=[df[df['ClientMacAddr'] == macid]['lng']]\n",
    "\n",
    "plt.plot(x, y, color='green', marker='o', linestyle='dashed', linewidth=2, markersize=1)\n",
    "plt.show()"
   ]
  },
  {
   "cell_type": "code",
   "execution_count": 34,
   "metadata": {},
   "outputs": [
    {
     "data": {
      "image/png": "[encoded data removed]",
      "text/plain": [
       "<Figure size 432x288 with 1 Axes>"
      ]
     },
     "metadata": {
      "needs_background": "light"
     },
     "output_type": "display_data"
    }
   ],
   "source": [
    "macid = '38:01:95:37:74:e0'\n",
    "x = [df[df['ClientMacAddr'] == macid]['lat']]\n",
    "y=[df[df['ClientMacAddr'] == macid]['lng']]\n",
    "\n",
    "plt.plot(x, y, color='green', marker='o', linestyle='dashed', linewidth=2, markersize=1)\n",
    "plt.show()"
   ]
  },
  {
   "cell_type": "code",
   "execution_count": 35,
   "metadata": {},
   "outputs": [
    {
     "data": {
      "image/png": "[encoded data removed]",
      "text/plain": [
       "<Figure size 432x288 with 1 Axes>"
      ]
     },
     "metadata": {
      "needs_background": "light"
     },
     "output_type": "display_data"
    }
   ],
   "source": [
    "macid = '38:01:95:38:cf:bc'\n",
    "x = [df[df['ClientMacAddr'] == macid]['lat']]\n",
    "y=[df[df['ClientMacAddr'] == macid]['lng']]\n",
    "\n",
    "plt.plot(x, y, color='green', marker='o', linestyle='dashed', linewidth=2, markersize=1)\n",
    "plt.show()"
   ]
  },
  {
   "cell_type": "code",
   "execution_count": 36,
   "metadata": {},
   "outputs": [
    {
     "data": {
      "image/png": "[encoded data removed]",
      "text/plain": [
       "<Figure size 432x288 with 1 Axes>"
      ]
     },
     "metadata": {
      "needs_background": "light"
     },
     "output_type": "display_data"
    }
   ],
   "source": [
    "plt.plot((df['lat'].min(),df['lng'].min()),(df['lat'].min(), df['lng'].min()), color='green', marker='o', linestyle='dashed', linewidth=2, markersize=15)\n",
    "plt.show()"
   ]
  },
  {
   "cell_type": "markdown",
   "metadata": {},
   "source": [
    "https://www.datacamp.com/community/tutorials/geospatial-data-python\n",
    "---------------------------\n",
    "\n",
    "https://science.sciencemag.org/content/327/5968/1018/tab-article-info\n",
    "Article Information\n",
    "vol. 327 no. 5968 1018-1021\n",
    "\n",
    "DOI: \n",
    "https://doi.org/10.1126/science.1177170\n",
    "PubMed: \n",
    "20167789\n",
    "Published By: \n",
    "American Association for the Advancement of Science\n",
    "Print ISSN: \n",
    "0036-8075\n",
    "Online ISSN: \n",
    "1095-9203\n",
    "History: \n",
    "Received for publication June 2, 2009\n",
    "Accepted for publication December 28, 2009\n",
    ".\n",
    "Copyright & Usage: \n",
    "Copyright © 2010, American Association for the Advancement of Science\n"
   ]
  },
  {
   "cell_type": "markdown",
   "metadata": {},
   "source": [
    "https://github.com/pysal/notebooksv"
   ]
  },
  {
   "cell_type": "markdown",
   "metadata": {},
   "source": [
    "## https://gis.stackexchange.com/questions/5857/clustering-trajectories-gps-data-of-x-y-points-and-mining-the-data\n",
    "Please cite the following papers when using this GPS dataset. [1] Yu Zheng, Lizhu Zhang, Xing Xie, Wei-Ying Ma. Mining interesting locations and travel sequences from GPS trajectories. In Proceedings of International conference on World Wild Web (WWW 2009), Madrid Spain. ACM Press: 791-800. [2] Yu Zheng, Quannan Li, Yukun Chen, Xing Xie, Wei-Ying Ma. Understanding Mobility Based on GPS Data. In Proceedings of ACM conference on Ubiquitous Computing (UbiComp 2008), Seoul, Korea. ACM Press: 312-321. [3] Yu Zheng, Xing Xie, Wei-Ying Ma, GeoLife: A Collaborative Social Networking Service among User, location and trajectory. Invited paper, in IEEE Data Engineering Bulletin. 33, 2, 2010, pp. 32-40."
   ]
  },
  {
   "cell_type": "markdown",
   "metadata": {},
   "source": [
    "# Most useful in terms of our project and for the documentation\n",
    "https://www.researchgate.net/publication/334030853_MovingPandas_Efficient_Structures_for_Movement_Data_in_Python\n",
    "\n",
    "https://github.com/gboeing/urban-data-science/blob/master/15-Spatial-Cluster-Analysis/cluster-analysis.ipynb"
   ]
  },
  {
   "cell_type": "code",
   "execution_count": 37,
   "metadata": {},
   "outputs": [
    {
     "data": {
      "text/plain": [
       "1034663"
      ]
     },
     "execution_count": 37,
     "metadata": {},
     "output_type": "execute_result"
    }
   ],
   "source": [
    "len(df)"
   ]
  },
  {
   "cell_type": "code",
   "execution_count": 38,
   "metadata": {},
   "outputs": [],
   "source": [
    "Filtered_df1 = df.copy()"
   ]
  },
  {
   "cell_type": "code",
   "execution_count": 39,
   "metadata": {},
   "outputs": [
    {
     "data": {
      "text/plain": [
       "(0.0018894096384336478, 0.0005054223289420179)"
      ]
     },
     "execution_count": 39,
     "metadata": {},
     "output_type": "execute_result"
    }
   ],
   "source": [
    "(df[df['ClientMacAddr'] == 'a8:96:75:1b:b4:59']['lat'].max() - df[df['ClientMacAddr'] == 'a8:96:75:1b:b4:59']['lat'].min(),df[df['ClientMacAddr'] == '38:01:95:38:cf:bc']['lng'].max() - df[df['ClientMacAddr'] == '38:01:95:38:cf:bc']['lng'].min())"
   ]
  },
  {
   "cell_type": "code",
   "execution_count": 40,
   "metadata": {},
   "outputs": [
    {
     "data": {
      "text/plain": [
       "Timestamp('2019-11-19 14:50:11.544704512+0000', tz='UTC')"
      ]
     },
     "execution_count": 40,
     "metadata": {},
     "output_type": "execute_result"
    }
   ],
   "source": [
    "from datetime import timedelta\n",
    "df['localtime'].mean()+ timedelta(hours=3)"
   ]
  },
  {
   "cell_type": "code",
   "execution_count": 41,
   "metadata": {},
   "outputs": [
    {
     "data": {
      "text/plain": [
       "1034663"
      ]
     },
     "execution_count": 41,
     "metadata": {},
     "output_type": "execute_result"
    }
   ],
   "source": [
    "len(df)"
   ]
  },
  {
   "cell_type": "code",
   "execution_count": 42,
   "metadata": {},
   "outputs": [
    {
     "data": {
      "text/plain": [
       "883056"
      ]
     },
     "execution_count": 42,
     "metadata": {},
     "output_type": "execute_result"
    }
   ],
   "source": [
    "count_lat = pd.DataFrame(df.groupby(['lat']).size()).sort_values(by=[0], ascending=False)\n",
    "len(count_lat)"
   ]
  },
  {
   "cell_type": "code",
   "execution_count": 43,
   "metadata": {},
   "outputs": [
    {
     "data": {
      "text/plain": [
       "883056"
      ]
     },
     "execution_count": 43,
     "metadata": {},
     "output_type": "execute_result"
    }
   ],
   "source": [
    "count_lng = pd.DataFrame(df.groupby(['lng']).size()).sort_values(by=[0], ascending=False)\n",
    "len(count_lng)"
   ]
  },
  {
   "cell_type": "code",
   "execution_count": 44,
   "metadata": {},
   "outputs": [
    {
     "data": {
      "text/plain": [
       "0    15\n",
       "Name: -22.814785462143455, dtype: int64"
      ]
     },
     "execution_count": 44,
     "metadata": {},
     "output_type": "execute_result"
    }
   ],
   "source": [
    "count_lat.iloc[1]"
   ]
  },
  {
   "cell_type": "code",
   "execution_count": 45,
   "metadata": {},
   "outputs": [
    {
     "data": {
      "text/plain": [
       "0    15\n",
       "Name: -43.244201638326054, dtype: int64"
      ]
     },
     "execution_count": 45,
     "metadata": {},
     "output_type": "execute_result"
    }
   ],
   "source": [
    "count_lng.iloc[1]"
   ]
  },
  {
   "cell_type": "code",
   "execution_count": 46,
   "metadata": {},
   "outputs": [
    {
     "data": {
      "text/html": [
       "<div>\n",
       "<style scoped>\n",
       "    .dataframe tbody tr th:only-of-type {\n",
       "        vertical-align: middle;\n",
       "    }\n",
       "\n",
       "    .dataframe tbody tr th {\n",
       "        vertical-align: top;\n",
       "    }\n",
       "\n",
       "    .dataframe thead th {\n",
       "        text-align: right;\n",
       "    }\n",
       "</style>\n",
       "<table border=\"1\" class=\"dataframe\">\n",
       "  <thead>\n",
       "    <tr style=\"text-align: right;\">\n",
       "      <th></th>\n",
       "      <th>0</th>\n",
       "    </tr>\n",
       "    <tr>\n",
       "      <th>ClientMacAddr</th>\n",
       "      <th></th>\n",
       "    </tr>\n",
       "  </thead>\n",
       "  <tbody>\n",
       "    <tr>\n",
       "      <th>04:79:70:60:f1:31</th>\n",
       "      <td>3</td>\n",
       "    </tr>\n",
       "    <tr>\n",
       "      <th>84:10:0d:b5:06:e0</th>\n",
       "      <td>2</td>\n",
       "    </tr>\n",
       "    <tr>\n",
       "      <th>c0:8c:71:31:bd:d3</th>\n",
       "      <td>2</td>\n",
       "    </tr>\n",
       "    <tr>\n",
       "      <th>fc:64:3a:d5:87:d0</th>\n",
       "      <td>2</td>\n",
       "    </tr>\n",
       "    <tr>\n",
       "      <th>24:46:c8:dc:b7:9c</th>\n",
       "      <td>1</td>\n",
       "    </tr>\n",
       "    <tr>\n",
       "      <th>88:40:3b:50:07:8b</th>\n",
       "      <td>1</td>\n",
       "    </tr>\n",
       "    <tr>\n",
       "      <th>f4:f5:24:c5:72:c6</th>\n",
       "      <td>1</td>\n",
       "    </tr>\n",
       "    <tr>\n",
       "      <th>f4:f5:24:8a:58:f7</th>\n",
       "      <td>1</td>\n",
       "    </tr>\n",
       "    <tr>\n",
       "      <th>f0:d7:aa:d8:75:10</th>\n",
       "      <td>1</td>\n",
       "    </tr>\n",
       "    <tr>\n",
       "      <th>d0:77:14:18:c9:ac</th>\n",
       "      <td>1</td>\n",
       "    </tr>\n",
       "    <tr>\n",
       "      <th>0c:9d:92:7d:3e:8c</th>\n",
       "      <td>1</td>\n",
       "    </tr>\n",
       "    <tr>\n",
       "      <th>bc:98:df:da:85:86</th>\n",
       "      <td>1</td>\n",
       "    </tr>\n",
       "    <tr>\n",
       "      <th>a8:db:03:98:96:9c</th>\n",
       "      <td>1</td>\n",
       "    </tr>\n",
       "    <tr>\n",
       "      <th>98:39:8e:21:d8:5f</th>\n",
       "      <td>1</td>\n",
       "    </tr>\n",
       "    <tr>\n",
       "      <th>18:31:bf:10:64:41</th>\n",
       "      <td>1</td>\n",
       "    </tr>\n",
       "    <tr>\n",
       "      <th>28:83:35:d2:03:bb</th>\n",
       "      <td>1</td>\n",
       "    </tr>\n",
       "    <tr>\n",
       "      <th>70:fd:46:e1:83:a2</th>\n",
       "      <td>1</td>\n",
       "    </tr>\n",
       "    <tr>\n",
       "      <th>08:c5:e1:10:cb:5f</th>\n",
       "      <td>1</td>\n",
       "    </tr>\n",
       "    <tr>\n",
       "      <th>68:a3:c4:80:ea:34</th>\n",
       "      <td>1</td>\n",
       "    </tr>\n",
       "    <tr>\n",
       "      <th>58:d9:c3:17:d5:6d</th>\n",
       "      <td>1</td>\n",
       "    </tr>\n",
       "    <tr>\n",
       "      <th>50:92:b9:e7:22:c2</th>\n",
       "      <td>1</td>\n",
       "    </tr>\n",
       "    <tr>\n",
       "      <th>48:49:c7:96:c9:24</th>\n",
       "      <td>1</td>\n",
       "    </tr>\n",
       "    <tr>\n",
       "      <th>38:9a:f6:cd:8d:ed</th>\n",
       "      <td>1</td>\n",
       "    </tr>\n",
       "    <tr>\n",
       "      <th>30:89:d3:9e:03:b0</th>\n",
       "      <td>1</td>\n",
       "    </tr>\n",
       "    <tr>\n",
       "      <th>68:c4:4d:30:bc:58</th>\n",
       "      <td>1</td>\n",
       "    </tr>\n",
       "  </tbody>\n",
       "</table>\n",
       "</div>"
      ],
      "text/plain": [
       "                   0\n",
       "ClientMacAddr       \n",
       "04:79:70:60:f1:31  3\n",
       "84:10:0d:b5:06:e0  2\n",
       "c0:8c:71:31:bd:d3  2\n",
       "fc:64:3a:d5:87:d0  2\n",
       "24:46:c8:dc:b7:9c  1\n",
       "88:40:3b:50:07:8b  1\n",
       "f4:f5:24:c5:72:c6  1\n",
       "f4:f5:24:8a:58:f7  1\n",
       "f0:d7:aa:d8:75:10  1\n",
       "d0:77:14:18:c9:ac  1\n",
       "0c:9d:92:7d:3e:8c  1\n",
       "bc:98:df:da:85:86  1\n",
       "a8:db:03:98:96:9c  1\n",
       "98:39:8e:21:d8:5f  1\n",
       "18:31:bf:10:64:41  1\n",
       "28:83:35:d2:03:bb  1\n",
       "70:fd:46:e1:83:a2  1\n",
       "08:c5:e1:10:cb:5f  1\n",
       "68:a3:c4:80:ea:34  1\n",
       "58:d9:c3:17:d5:6d  1\n",
       "50:92:b9:e7:22:c2  1\n",
       "48:49:c7:96:c9:24  1\n",
       "38:9a:f6:cd:8d:ed  1\n",
       "30:89:d3:9e:03:b0  1\n",
       "68:c4:4d:30:bc:58  1"
      ]
     },
     "execution_count": 46,
     "metadata": {},
     "output_type": "execute_result"
    }
   ],
   "source": [
    "df.loc[(df['lat'] == -22.813965766508655)&(df['lng'] == -43.247112045319234) ]\n",
    "max_lat_lng = df.loc[(df['lat'] == -22.813965766508655)&(df['lng'] == -43.247112045319234) ]\n",
    "pd.DataFrame(max_lat_lng.groupby(['ClientMacAddr']).size()).sort_values(by=[0], ascending=False)"
   ]
  },
  {
   "cell_type": "code",
   "execution_count": 47,
   "metadata": {},
   "outputs": [
    {
     "data": {
      "text/html": [
       "<div>\n",
       "<style scoped>\n",
       "    .dataframe tbody tr th:only-of-type {\n",
       "        vertical-align: middle;\n",
       "    }\n",
       "\n",
       "    .dataframe tbody tr th {\n",
       "        vertical-align: top;\n",
       "    }\n",
       "\n",
       "    .dataframe thead th {\n",
       "        text-align: right;\n",
       "    }\n",
       "</style>\n",
       "<table border=\"1\" class=\"dataframe\">\n",
       "  <thead>\n",
       "    <tr style=\"text-align: right;\">\n",
       "      <th></th>\n",
       "      <th>Building</th>\n",
       "      <th>Level</th>\n",
       "      <th>ClientMacAddr</th>\n",
       "      <th>lat</th>\n",
       "      <th>lng</th>\n",
       "      <th>localtime</th>\n",
       "    </tr>\n",
       "  </thead>\n",
       "  <tbody>\n",
       "    <tr>\n",
       "      <th>1031595</th>\n",
       "      <td>TPS2</td>\n",
       "      <td>Level 3</td>\n",
       "      <td>18:31:bf:10:64:41</td>\n",
       "      <td>-22.813966</td>\n",
       "      <td>-43.247112</td>\n",
       "      <td>2019-11-19 23:55:42.429000+00:00</td>\n",
       "    </tr>\n",
       "    <tr>\n",
       "      <th>1005562</th>\n",
       "      <td>TPS2</td>\n",
       "      <td>Level 3</td>\n",
       "      <td>fc:64:3a:d5:87:d0</td>\n",
       "      <td>-22.813966</td>\n",
       "      <td>-43.247112</td>\n",
       "      <td>2019-11-19 23:20:48.181000+00:00</td>\n",
       "    </tr>\n",
       "    <tr>\n",
       "      <th>1005423</th>\n",
       "      <td>TPS2</td>\n",
       "      <td>Level 3</td>\n",
       "      <td>fc:64:3a:d5:87:d0</td>\n",
       "      <td>-22.813966</td>\n",
       "      <td>-43.247112</td>\n",
       "      <td>2019-11-19 23:20:38.246000+00:00</td>\n",
       "    </tr>\n",
       "    <tr>\n",
       "      <th>994587</th>\n",
       "      <td>TPS2</td>\n",
       "      <td>Level 3</td>\n",
       "      <td>f4:f5:24:c5:72:c6</td>\n",
       "      <td>-22.813966</td>\n",
       "      <td>-43.247112</td>\n",
       "      <td>2019-11-19 23:06:24.555000+00:00</td>\n",
       "    </tr>\n",
       "    <tr>\n",
       "      <th>982895</th>\n",
       "      <td>TPS2</td>\n",
       "      <td>Level 3</td>\n",
       "      <td>bc:98:df:da:85:86</td>\n",
       "      <td>-22.813966</td>\n",
       "      <td>-43.247112</td>\n",
       "      <td>2019-11-19 22:51:24.130000+00:00</td>\n",
       "    </tr>\n",
       "    <tr>\n",
       "      <th>971594</th>\n",
       "      <td>TPS2</td>\n",
       "      <td>Level 3</td>\n",
       "      <td>88:40:3b:50:07:8b</td>\n",
       "      <td>-22.813966</td>\n",
       "      <td>-43.247112</td>\n",
       "      <td>2019-11-19 22:37:38.495000+00:00</td>\n",
       "    </tr>\n",
       "    <tr>\n",
       "      <th>883335</th>\n",
       "      <td>TPS2</td>\n",
       "      <td>Level 3</td>\n",
       "      <td>68:a3:c4:80:ea:34</td>\n",
       "      <td>-22.813966</td>\n",
       "      <td>-43.247112</td>\n",
       "      <td>2019-11-19 19:44:38.850000+00:00</td>\n",
       "    </tr>\n",
       "    <tr>\n",
       "      <th>870920</th>\n",
       "      <td>TPS2</td>\n",
       "      <td>Level 3</td>\n",
       "      <td>98:39:8e:21:d8:5f</td>\n",
       "      <td>-22.813966</td>\n",
       "      <td>-43.247112</td>\n",
       "      <td>2019-11-19 19:19:45.587000+00:00</td>\n",
       "    </tr>\n",
       "    <tr>\n",
       "      <th>811677</th>\n",
       "      <td>TPS2</td>\n",
       "      <td>Level 3</td>\n",
       "      <td>48:49:c7:96:c9:24</td>\n",
       "      <td>-22.813966</td>\n",
       "      <td>-43.247112</td>\n",
       "      <td>2019-11-19 17:48:24.793000+00:00</td>\n",
       "    </tr>\n",
       "    <tr>\n",
       "      <th>769196</th>\n",
       "      <td>TPS2</td>\n",
       "      <td>Level 3</td>\n",
       "      <td>d0:77:14:18:c9:ac</td>\n",
       "      <td>-22.813966</td>\n",
       "      <td>-43.247112</td>\n",
       "      <td>2019-11-19 16:38:34.720000+00:00</td>\n",
       "    </tr>\n",
       "    <tr>\n",
       "      <th>764803</th>\n",
       "      <td>TPS2</td>\n",
       "      <td>Level 3</td>\n",
       "      <td>08:c5:e1:10:cb:5f</td>\n",
       "      <td>-22.813966</td>\n",
       "      <td>-43.247112</td>\n",
       "      <td>2019-11-19 16:32:14.626000+00:00</td>\n",
       "    </tr>\n",
       "    <tr>\n",
       "      <th>749994</th>\n",
       "      <td>TPS2</td>\n",
       "      <td>Level 3</td>\n",
       "      <td>24:46:c8:dc:b7:9c</td>\n",
       "      <td>-22.813966</td>\n",
       "      <td>-43.247112</td>\n",
       "      <td>2019-11-19 16:11:08.326000+00:00</td>\n",
       "    </tr>\n",
       "    <tr>\n",
       "      <th>748321</th>\n",
       "      <td>TPS2</td>\n",
       "      <td>Level 3</td>\n",
       "      <td>68:c4:4d:30:bc:58</td>\n",
       "      <td>-22.813966</td>\n",
       "      <td>-43.247112</td>\n",
       "      <td>2019-11-19 16:08:15.493000+00:00</td>\n",
       "    </tr>\n",
       "    <tr>\n",
       "      <th>747620</th>\n",
       "      <td>TPS2</td>\n",
       "      <td>Level 3</td>\n",
       "      <td>0c:9d:92:7d:3e:8c</td>\n",
       "      <td>-22.813966</td>\n",
       "      <td>-43.247112</td>\n",
       "      <td>2019-11-19 16:06:59.733000+00:00</td>\n",
       "    </tr>\n",
       "    <tr>\n",
       "      <th>733972</th>\n",
       "      <td>TPS2</td>\n",
       "      <td>Level 3</td>\n",
       "      <td>04:79:70:60:f1:31</td>\n",
       "      <td>-22.813966</td>\n",
       "      <td>-43.247112</td>\n",
       "      <td>2019-11-19 15:46:15.016000+00:00</td>\n",
       "    </tr>\n",
       "    <tr>\n",
       "      <th>733171</th>\n",
       "      <td>TPS2</td>\n",
       "      <td>Level 3</td>\n",
       "      <td>04:79:70:60:f1:31</td>\n",
       "      <td>-22.813966</td>\n",
       "      <td>-43.247112</td>\n",
       "      <td>2019-11-19 15:44:57.281000+00:00</td>\n",
       "    </tr>\n",
       "    <tr>\n",
       "      <th>732329</th>\n",
       "      <td>TPS2</td>\n",
       "      <td>Level 3</td>\n",
       "      <td>04:79:70:60:f1:31</td>\n",
       "      <td>-22.813966</td>\n",
       "      <td>-43.247112</td>\n",
       "      <td>2019-11-19 15:43:37.271000+00:00</td>\n",
       "    </tr>\n",
       "    <tr>\n",
       "      <th>714501</th>\n",
       "      <td>TPS2</td>\n",
       "      <td>Level 3</td>\n",
       "      <td>38:9a:f6:cd:8d:ed</td>\n",
       "      <td>-22.813966</td>\n",
       "      <td>-43.247112</td>\n",
       "      <td>2019-11-19 15:15:27.250000+00:00</td>\n",
       "    </tr>\n",
       "    <tr>\n",
       "      <th>681046</th>\n",
       "      <td>TPS2</td>\n",
       "      <td>Level 3</td>\n",
       "      <td>70:fd:46:e1:83:a2</td>\n",
       "      <td>-22.813966</td>\n",
       "      <td>-43.247112</td>\n",
       "      <td>2019-11-19 14:33:04.650000+00:00</td>\n",
       "    </tr>\n",
       "    <tr>\n",
       "      <th>568715</th>\n",
       "      <td>TPS2</td>\n",
       "      <td>Level 3</td>\n",
       "      <td>30:89:d3:9e:03:b0</td>\n",
       "      <td>-22.813966</td>\n",
       "      <td>-43.247112</td>\n",
       "      <td>2019-11-19 12:30:28.933000+00:00</td>\n",
       "    </tr>\n",
       "    <tr>\n",
       "      <th>449056</th>\n",
       "      <td>TPS2</td>\n",
       "      <td>Level 3</td>\n",
       "      <td>f0:d7:aa:d8:75:10</td>\n",
       "      <td>-22.813966</td>\n",
       "      <td>-43.247112</td>\n",
       "      <td>2019-11-19 10:22:41.806000+00:00</td>\n",
       "    </tr>\n",
       "    <tr>\n",
       "      <th>441608</th>\n",
       "      <td>TPS2</td>\n",
       "      <td>Level 3</td>\n",
       "      <td>50:92:b9:e7:22:c2</td>\n",
       "      <td>-22.813966</td>\n",
       "      <td>-43.247112</td>\n",
       "      <td>2019-11-19 10:14:09.268000+00:00</td>\n",
       "    </tr>\n",
       "    <tr>\n",
       "      <th>413638</th>\n",
       "      <td>TPS2</td>\n",
       "      <td>Level 3</td>\n",
       "      <td>f4:f5:24:8a:58:f7</td>\n",
       "      <td>-22.813966</td>\n",
       "      <td>-43.247112</td>\n",
       "      <td>2019-11-19 09:43:26.757000+00:00</td>\n",
       "    </tr>\n",
       "    <tr>\n",
       "      <th>403046</th>\n",
       "      <td>TPS2</td>\n",
       "      <td>Level 3</td>\n",
       "      <td>a8:db:03:98:96:9c</td>\n",
       "      <td>-22.813966</td>\n",
       "      <td>-43.247112</td>\n",
       "      <td>2019-11-19 09:31:17.143000+00:00</td>\n",
       "    </tr>\n",
       "    <tr>\n",
       "      <th>261523</th>\n",
       "      <td>TPS2</td>\n",
       "      <td>Level 3</td>\n",
       "      <td>84:10:0d:b5:06:e0</td>\n",
       "      <td>-22.813966</td>\n",
       "      <td>-43.247112</td>\n",
       "      <td>2019-11-19 06:51:59.351000+00:00</td>\n",
       "    </tr>\n",
       "    <tr>\n",
       "      <th>261522</th>\n",
       "      <td>TPS2</td>\n",
       "      <td>Level 3</td>\n",
       "      <td>84:10:0d:b5:06:e0</td>\n",
       "      <td>-22.813966</td>\n",
       "      <td>-43.247112</td>\n",
       "      <td>2019-11-19 06:51:59.350000+00:00</td>\n",
       "    </tr>\n",
       "    <tr>\n",
       "      <th>226169</th>\n",
       "      <td>TPS2</td>\n",
       "      <td>Level 3</td>\n",
       "      <td>58:d9:c3:17:d5:6d</td>\n",
       "      <td>-22.813966</td>\n",
       "      <td>-43.247112</td>\n",
       "      <td>2019-11-19 06:05:39.167000+00:00</td>\n",
       "    </tr>\n",
       "    <tr>\n",
       "      <th>223532</th>\n",
       "      <td>TPS2</td>\n",
       "      <td>Level 3</td>\n",
       "      <td>28:83:35:d2:03:bb</td>\n",
       "      <td>-22.813966</td>\n",
       "      <td>-43.247112</td>\n",
       "      <td>2019-11-19 06:02:25.088000+00:00</td>\n",
       "    </tr>\n",
       "    <tr>\n",
       "      <th>178849</th>\n",
       "      <td>TPS2</td>\n",
       "      <td>Level 3</td>\n",
       "      <td>c0:8c:71:31:bd:d3</td>\n",
       "      <td>-22.813966</td>\n",
       "      <td>-43.247112</td>\n",
       "      <td>2019-11-19 05:02:12.303000+00:00</td>\n",
       "    </tr>\n",
       "    <tr>\n",
       "      <th>178848</th>\n",
       "      <td>TPS2</td>\n",
       "      <td>Level 3</td>\n",
       "      <td>c0:8c:71:31:bd:d3</td>\n",
       "      <td>-22.813966</td>\n",
       "      <td>-43.247112</td>\n",
       "      <td>2019-11-19 05:02:12.302000+00:00</td>\n",
       "    </tr>\n",
       "  </tbody>\n",
       "</table>\n",
       "</div>"
      ],
      "text/plain": [
       "        Building    Level      ClientMacAddr        lat        lng  \\\n",
       "1031595     TPS2  Level 3  18:31:bf:10:64:41 -22.813966 -43.247112   \n",
       "1005562     TPS2  Level 3  fc:64:3a:d5:87:d0 -22.813966 -43.247112   \n",
       "1005423     TPS2  Level 3  fc:64:3a:d5:87:d0 -22.813966 -43.247112   \n",
       "994587      TPS2  Level 3  f4:f5:24:c5:72:c6 -22.813966 -43.247112   \n",
       "982895      TPS2  Level 3  bc:98:df:da:85:86 -22.813966 -43.247112   \n",
       "971594      TPS2  Level 3  88:40:3b:50:07:8b -22.813966 -43.247112   \n",
       "883335      TPS2  Level 3  68:a3:c4:80:ea:34 -22.813966 -43.247112   \n",
       "870920      TPS2  Level 3  98:39:8e:21:d8:5f -22.813966 -43.247112   \n",
       "811677      TPS2  Level 3  48:49:c7:96:c9:24 -22.813966 -43.247112   \n",
       "769196      TPS2  Level 3  d0:77:14:18:c9:ac -22.813966 -43.247112   \n",
       "764803      TPS2  Level 3  08:c5:e1:10:cb:5f -22.813966 -43.247112   \n",
       "749994      TPS2  Level 3  24:46:c8:dc:b7:9c -22.813966 -43.247112   \n",
       "748321      TPS2  Level 3  68:c4:4d:30:bc:58 -22.813966 -43.247112   \n",
       "747620      TPS2  Level 3  0c:9d:92:7d:3e:8c -22.813966 -43.247112   \n",
       "733972      TPS2  Level 3  04:79:70:60:f1:31 -22.813966 -43.247112   \n",
       "733171      TPS2  Level 3  04:79:70:60:f1:31 -22.813966 -43.247112   \n",
       "732329      TPS2  Level 3  04:79:70:60:f1:31 -22.813966 -43.247112   \n",
       "714501      TPS2  Level 3  38:9a:f6:cd:8d:ed -22.813966 -43.247112   \n",
       "681046      TPS2  Level 3  70:fd:46:e1:83:a2 -22.813966 -43.247112   \n",
       "568715      TPS2  Level 3  30:89:d3:9e:03:b0 -22.813966 -43.247112   \n",
       "449056      TPS2  Level 3  f0:d7:aa:d8:75:10 -22.813966 -43.247112   \n",
       "441608      TPS2  Level 3  50:92:b9:e7:22:c2 -22.813966 -43.247112   \n",
       "413638      TPS2  Level 3  f4:f5:24:8a:58:f7 -22.813966 -43.247112   \n",
       "403046      TPS2  Level 3  a8:db:03:98:96:9c -22.813966 -43.247112   \n",
       "261523      TPS2  Level 3  84:10:0d:b5:06:e0 -22.813966 -43.247112   \n",
       "261522      TPS2  Level 3  84:10:0d:b5:06:e0 -22.813966 -43.247112   \n",
       "226169      TPS2  Level 3  58:d9:c3:17:d5:6d -22.813966 -43.247112   \n",
       "223532      TPS2  Level 3  28:83:35:d2:03:bb -22.813966 -43.247112   \n",
       "178849      TPS2  Level 3  c0:8c:71:31:bd:d3 -22.813966 -43.247112   \n",
       "178848      TPS2  Level 3  c0:8c:71:31:bd:d3 -22.813966 -43.247112   \n",
       "\n",
       "                               localtime  \n",
       "1031595 2019-11-19 23:55:42.429000+00:00  \n",
       "1005562 2019-11-19 23:20:48.181000+00:00  \n",
       "1005423 2019-11-19 23:20:38.246000+00:00  \n",
       "994587  2019-11-19 23:06:24.555000+00:00  \n",
       "982895  2019-11-19 22:51:24.130000+00:00  \n",
       "971594  2019-11-19 22:37:38.495000+00:00  \n",
       "883335  2019-11-19 19:44:38.850000+00:00  \n",
       "870920  2019-11-19 19:19:45.587000+00:00  \n",
       "811677  2019-11-19 17:48:24.793000+00:00  \n",
       "769196  2019-11-19 16:38:34.720000+00:00  \n",
       "764803  2019-11-19 16:32:14.626000+00:00  \n",
       "749994  2019-11-19 16:11:08.326000+00:00  \n",
       "748321  2019-11-19 16:08:15.493000+00:00  \n",
       "747620  2019-11-19 16:06:59.733000+00:00  \n",
       "733972  2019-11-19 15:46:15.016000+00:00  \n",
       "733171  2019-11-19 15:44:57.281000+00:00  \n",
       "732329  2019-11-19 15:43:37.271000+00:00  \n",
       "714501  2019-11-19 15:15:27.250000+00:00  \n",
       "681046  2019-11-19 14:33:04.650000+00:00  \n",
       "568715  2019-11-19 12:30:28.933000+00:00  \n",
       "449056  2019-11-19 10:22:41.806000+00:00  \n",
       "441608  2019-11-19 10:14:09.268000+00:00  \n",
       "413638  2019-11-19 09:43:26.757000+00:00  \n",
       "403046  2019-11-19 09:31:17.143000+00:00  \n",
       "261523  2019-11-19 06:51:59.351000+00:00  \n",
       "261522  2019-11-19 06:51:59.350000+00:00  \n",
       "226169  2019-11-19 06:05:39.167000+00:00  \n",
       "223532  2019-11-19 06:02:25.088000+00:00  \n",
       "178849  2019-11-19 05:02:12.303000+00:00  \n",
       "178848  2019-11-19 05:02:12.302000+00:00  "
      ]
     },
     "execution_count": 47,
     "metadata": {},
     "output_type": "execute_result"
    }
   ],
   "source": [
    "df.loc[(df['lng'] == -43.247112045319234)]"
   ]
  },
  {
   "cell_type": "code",
   "execution_count": 48,
   "metadata": {},
   "outputs": [
    {
     "data": {
      "text/html": [
       "<div>\n",
       "<style scoped>\n",
       "    .dataframe tbody tr th:only-of-type {\n",
       "        vertical-align: middle;\n",
       "    }\n",
       "\n",
       "    .dataframe tbody tr th {\n",
       "        vertical-align: top;\n",
       "    }\n",
       "\n",
       "    .dataframe thead th {\n",
       "        text-align: right;\n",
       "    }\n",
       "</style>\n",
       "<table border=\"1\" class=\"dataframe\">\n",
       "  <thead>\n",
       "    <tr style=\"text-align: right;\">\n",
       "      <th></th>\n",
       "      <th>0</th>\n",
       "    </tr>\n",
       "    <tr>\n",
       "      <th>ClientMacAddr</th>\n",
       "      <th></th>\n",
       "    </tr>\n",
       "  </thead>\n",
       "  <tbody>\n",
       "    <tr>\n",
       "      <th>04:79:70:60:f1:31</th>\n",
       "      <td>3</td>\n",
       "    </tr>\n",
       "    <tr>\n",
       "      <th>84:10:0d:b5:06:e0</th>\n",
       "      <td>2</td>\n",
       "    </tr>\n",
       "    <tr>\n",
       "      <th>c0:8c:71:31:bd:d3</th>\n",
       "      <td>2</td>\n",
       "    </tr>\n",
       "    <tr>\n",
       "      <th>fc:64:3a:d5:87:d0</th>\n",
       "      <td>2</td>\n",
       "    </tr>\n",
       "    <tr>\n",
       "      <th>24:46:c8:dc:b7:9c</th>\n",
       "      <td>1</td>\n",
       "    </tr>\n",
       "    <tr>\n",
       "      <th>88:40:3b:50:07:8b</th>\n",
       "      <td>1</td>\n",
       "    </tr>\n",
       "    <tr>\n",
       "      <th>f4:f5:24:c5:72:c6</th>\n",
       "      <td>1</td>\n",
       "    </tr>\n",
       "    <tr>\n",
       "      <th>f4:f5:24:8a:58:f7</th>\n",
       "      <td>1</td>\n",
       "    </tr>\n",
       "    <tr>\n",
       "      <th>f0:d7:aa:d8:75:10</th>\n",
       "      <td>1</td>\n",
       "    </tr>\n",
       "    <tr>\n",
       "      <th>d0:77:14:18:c9:ac</th>\n",
       "      <td>1</td>\n",
       "    </tr>\n",
       "    <tr>\n",
       "      <th>0c:9d:92:7d:3e:8c</th>\n",
       "      <td>1</td>\n",
       "    </tr>\n",
       "    <tr>\n",
       "      <th>bc:98:df:da:85:86</th>\n",
       "      <td>1</td>\n",
       "    </tr>\n",
       "    <tr>\n",
       "      <th>a8:db:03:98:96:9c</th>\n",
       "      <td>1</td>\n",
       "    </tr>\n",
       "    <tr>\n",
       "      <th>98:39:8e:21:d8:5f</th>\n",
       "      <td>1</td>\n",
       "    </tr>\n",
       "    <tr>\n",
       "      <th>18:31:bf:10:64:41</th>\n",
       "      <td>1</td>\n",
       "    </tr>\n",
       "    <tr>\n",
       "      <th>28:83:35:d2:03:bb</th>\n",
       "      <td>1</td>\n",
       "    </tr>\n",
       "    <tr>\n",
       "      <th>70:fd:46:e1:83:a2</th>\n",
       "      <td>1</td>\n",
       "    </tr>\n",
       "    <tr>\n",
       "      <th>08:c5:e1:10:cb:5f</th>\n",
       "      <td>1</td>\n",
       "    </tr>\n",
       "    <tr>\n",
       "      <th>68:a3:c4:80:ea:34</th>\n",
       "      <td>1</td>\n",
       "    </tr>\n",
       "    <tr>\n",
       "      <th>58:d9:c3:17:d5:6d</th>\n",
       "      <td>1</td>\n",
       "    </tr>\n",
       "    <tr>\n",
       "      <th>50:92:b9:e7:22:c2</th>\n",
       "      <td>1</td>\n",
       "    </tr>\n",
       "    <tr>\n",
       "      <th>48:49:c7:96:c9:24</th>\n",
       "      <td>1</td>\n",
       "    </tr>\n",
       "    <tr>\n",
       "      <th>38:9a:f6:cd:8d:ed</th>\n",
       "      <td>1</td>\n",
       "    </tr>\n",
       "    <tr>\n",
       "      <th>30:89:d3:9e:03:b0</th>\n",
       "      <td>1</td>\n",
       "    </tr>\n",
       "    <tr>\n",
       "      <th>68:c4:4d:30:bc:58</th>\n",
       "      <td>1</td>\n",
       "    </tr>\n",
       "  </tbody>\n",
       "</table>\n",
       "</div>"
      ],
      "text/plain": [
       "                   0\n",
       "ClientMacAddr       \n",
       "04:79:70:60:f1:31  3\n",
       "84:10:0d:b5:06:e0  2\n",
       "c0:8c:71:31:bd:d3  2\n",
       "fc:64:3a:d5:87:d0  2\n",
       "24:46:c8:dc:b7:9c  1\n",
       "88:40:3b:50:07:8b  1\n",
       "f4:f5:24:c5:72:c6  1\n",
       "f4:f5:24:8a:58:f7  1\n",
       "f0:d7:aa:d8:75:10  1\n",
       "d0:77:14:18:c9:ac  1\n",
       "0c:9d:92:7d:3e:8c  1\n",
       "bc:98:df:da:85:86  1\n",
       "a8:db:03:98:96:9c  1\n",
       "98:39:8e:21:d8:5f  1\n",
       "18:31:bf:10:64:41  1\n",
       "28:83:35:d2:03:bb  1\n",
       "70:fd:46:e1:83:a2  1\n",
       "08:c5:e1:10:cb:5f  1\n",
       "68:a3:c4:80:ea:34  1\n",
       "58:d9:c3:17:d5:6d  1\n",
       "50:92:b9:e7:22:c2  1\n",
       "48:49:c7:96:c9:24  1\n",
       "38:9a:f6:cd:8d:ed  1\n",
       "30:89:d3:9e:03:b0  1\n",
       "68:c4:4d:30:bc:58  1"
      ]
     },
     "execution_count": 48,
     "metadata": {},
     "output_type": "execute_result"
    }
   ],
   "source": [
    "df.loc[(df['lat'] == -22.814785462143455)&(df['lng'] == -43.244201638326054) ]\n",
    "max_lat_lng = df.loc[(df['lat'] == -22.813965766508655)&(df['lng'] == -43.247112045319234) ]\n",
    "pd.DataFrame(max_lat_lng.groupby(['ClientMacAddr']).size()).sort_values(by=[0], ascending=False)"
   ]
  },
  {
   "cell_type": "code",
   "execution_count": 49,
   "metadata": {},
   "outputs": [
    {
     "data": {
      "text/plain": [
       "True"
      ]
     },
     "execution_count": 49,
     "metadata": {},
     "output_type": "execute_result"
    }
   ],
   "source": [
    "\"04:79:70:60:f1:31\" == \"04:79:70:60:f1:31\" # occurred 3 times at (x1,y1),(x2,y2)"
   ]
  },
  {
   "cell_type": "code",
   "execution_count": 50,
   "metadata": {},
   "outputs": [],
   "source": [
    "import math\n",
    "x1=-22.814785462143455\n",
    "x2=-43.244201638326054\n",
    "y1= -22.813965766508655\n",
    "y2= -43.247112045319234\n",
    "#math.sqrt((x2 - x1)**2 + (y2 - y1)**2)\n"
   ]
  },
  {
   "cell_type": "code",
   "execution_count": 51,
   "metadata": {},
   "outputs": [
    {
     "data": {
      "text/plain": [
       "True"
      ]
     },
     "execution_count": 51,
     "metadata": {},
     "output_type": "execute_result"
    }
   ],
   "source": [
    "\"84:10:0d:b5:06:e0\" == \"84:10:0d:b5:06:e0\"  # occurred 2 times at (x1,y1),(x2,y2)"
   ]
  },
  {
   "cell_type": "code",
   "execution_count": 52,
   "metadata": {},
   "outputs": [
    {
     "data": {
      "text/plain": [
       "True"
      ]
     },
     "execution_count": 52,
     "metadata": {},
     "output_type": "execute_result"
    }
   ],
   "source": [
    "\"c0:8c:71:31:bd:d3\" == \"c0:8c:71:31:bd:d3\" # occurred 2 times at (x1,y1),(x2,y2)"
   ]
  },
  {
   "cell_type": "code",
   "execution_count": 53,
   "metadata": {},
   "outputs": [
    {
     "data": {
      "text/plain": [
       "True"
      ]
     },
     "execution_count": 53,
     "metadata": {},
     "output_type": "execute_result"
    }
   ],
   "source": [
    "\"fc:64:3a:d5:87:d0\" == \"fc:64:3a:d5:87:d0\"# occurred 2 times at (x1,y1),(x2,y2)"
   ]
  },
  {
   "cell_type": "code",
   "execution_count": 54,
   "metadata": {},
   "outputs": [
    {
     "data": {
      "text/html": [
       "<div>\n",
       "<style scoped>\n",
       "    .dataframe tbody tr th:only-of-type {\n",
       "        vertical-align: middle;\n",
       "    }\n",
       "\n",
       "    .dataframe tbody tr th {\n",
       "        vertical-align: top;\n",
       "    }\n",
       "\n",
       "    .dataframe thead th {\n",
       "        text-align: right;\n",
       "    }\n",
       "</style>\n",
       "<table border=\"1\" class=\"dataframe\">\n",
       "  <thead>\n",
       "    <tr style=\"text-align: right;\">\n",
       "      <th></th>\n",
       "      <th>0</th>\n",
       "    </tr>\n",
       "    <tr>\n",
       "      <th>ClientMacAddr</th>\n",
       "      <th></th>\n",
       "    </tr>\n",
       "  </thead>\n",
       "  <tbody>\n",
       "    <tr>\n",
       "      <th>c0:8c:71:31:bd:d3</th>\n",
       "      <td>259</td>\n",
       "    </tr>\n",
       "    <tr>\n",
       "      <th>fc:64:3a:d5:87:d0</th>\n",
       "      <td>219</td>\n",
       "    </tr>\n",
       "    <tr>\n",
       "      <th>84:10:0d:b5:06:e0</th>\n",
       "      <td>10</td>\n",
       "    </tr>\n",
       "  </tbody>\n",
       "</table>\n",
       "</div>"
      ],
      "text/plain": [
       "                     0\n",
       "ClientMacAddr         \n",
       "c0:8c:71:31:bd:d3  259\n",
       "fc:64:3a:d5:87:d0  219\n",
       "84:10:0d:b5:06:e0   10"
      ]
     },
     "execution_count": 54,
     "metadata": {},
     "output_type": "execute_result"
    }
   ],
   "source": [
    "temp_df = df.loc[(df['ClientMacAddr'] == \"84:10:0d:b5:06:e0\")|(df['ClientMacAddr'] == \"c0:8c:71:31:bd:d3\")|(df['ClientMacAddr'] == \"fc:64:3a:d5:87:d0\") ]\n",
    "\n",
    "pd.DataFrame(temp_df.groupby(['ClientMacAddr']).size()).sort_values(by=[0], ascending=False)"
   ]
  },
  {
   "cell_type": "code",
   "execution_count": 55,
   "metadata": {},
   "outputs": [
    {
     "data": {
      "text/html": [
       "<div>\n",
       "<style scoped>\n",
       "    .dataframe tbody tr th:only-of-type {\n",
       "        vertical-align: middle;\n",
       "    }\n",
       "\n",
       "    .dataframe tbody tr th {\n",
       "        vertical-align: top;\n",
       "    }\n",
       "\n",
       "    .dataframe thead th {\n",
       "        text-align: right;\n",
       "    }\n",
       "</style>\n",
       "<table border=\"1\" class=\"dataframe\">\n",
       "  <thead>\n",
       "    <tr style=\"text-align: right;\">\n",
       "      <th></th>\n",
       "      <th>Building</th>\n",
       "      <th>Level</th>\n",
       "      <th>ClientMacAddr</th>\n",
       "      <th>lat</th>\n",
       "      <th>lng</th>\n",
       "      <th>localtime</th>\n",
       "    </tr>\n",
       "  </thead>\n",
       "  <tbody>\n",
       "    <tr>\n",
       "      <th>1034529</th>\n",
       "      <td>TPS2</td>\n",
       "      <td>Level 3</td>\n",
       "      <td>fc:64:3a:d5:87:d0</td>\n",
       "      <td>-22.815457</td>\n",
       "      <td>-43.246260</td>\n",
       "      <td>2019-11-19 23:59:48.135000+00:00</td>\n",
       "    </tr>\n",
       "    <tr>\n",
       "      <th>1034528</th>\n",
       "      <td>TPS2</td>\n",
       "      <td>Level 3</td>\n",
       "      <td>fc:64:3a:d5:87:d0</td>\n",
       "      <td>-22.815457</td>\n",
       "      <td>-43.246260</td>\n",
       "      <td>2019-11-19 23:59:48.134000+00:00</td>\n",
       "    </tr>\n",
       "    <tr>\n",
       "      <th>1034393</th>\n",
       "      <td>TPS2</td>\n",
       "      <td>Level 3</td>\n",
       "      <td>fc:64:3a:d5:87:d0</td>\n",
       "      <td>-22.815463</td>\n",
       "      <td>-43.246239</td>\n",
       "      <td>2019-11-19 23:59:38.212000+00:00</td>\n",
       "    </tr>\n",
       "    <tr>\n",
       "      <th>1034266</th>\n",
       "      <td>TPS2</td>\n",
       "      <td>Level 3</td>\n",
       "      <td>fc:64:3a:d5:87:d0</td>\n",
       "      <td>-22.815469</td>\n",
       "      <td>-43.246279</td>\n",
       "      <td>2019-11-19 23:59:28.118000+00:00</td>\n",
       "    </tr>\n",
       "    <tr>\n",
       "      <th>1034163</th>\n",
       "      <td>TPS2</td>\n",
       "      <td>Level 3</td>\n",
       "      <td>fc:64:3a:d5:87:d0</td>\n",
       "      <td>-22.815457</td>\n",
       "      <td>-43.246286</td>\n",
       "      <td>2019-11-19 23:59:18.115000+00:00</td>\n",
       "    </tr>\n",
       "    <tr>\n",
       "      <th>...</th>\n",
       "      <td>...</td>\n",
       "      <td>...</td>\n",
       "      <td>...</td>\n",
       "      <td>...</td>\n",
       "      <td>...</td>\n",
       "      <td>...</td>\n",
       "    </tr>\n",
       "    <tr>\n",
       "      <th>166896</th>\n",
       "      <td>TPS2</td>\n",
       "      <td>Level 3</td>\n",
       "      <td>c0:8c:71:31:bd:d3</td>\n",
       "      <td>-22.815094</td>\n",
       "      <td>-43.245565</td>\n",
       "      <td>2019-11-19 04:45:03.315000+00:00</td>\n",
       "    </tr>\n",
       "    <tr>\n",
       "      <th>166652</th>\n",
       "      <td>TPS2</td>\n",
       "      <td>Level 3</td>\n",
       "      <td>c0:8c:71:31:bd:d3</td>\n",
       "      <td>-22.815061</td>\n",
       "      <td>-43.245398</td>\n",
       "      <td>2019-11-19 04:44:43.282000+00:00</td>\n",
       "    </tr>\n",
       "    <tr>\n",
       "      <th>166559</th>\n",
       "      <td>TPS2</td>\n",
       "      <td>Level 3</td>\n",
       "      <td>c0:8c:71:31:bd:d3</td>\n",
       "      <td>-22.815007</td>\n",
       "      <td>-43.245210</td>\n",
       "      <td>2019-11-19 04:44:33.259000+00:00</td>\n",
       "    </tr>\n",
       "    <tr>\n",
       "      <th>166558</th>\n",
       "      <td>TPS2</td>\n",
       "      <td>Level 3</td>\n",
       "      <td>c0:8c:71:31:bd:d3</td>\n",
       "      <td>-22.815007</td>\n",
       "      <td>-43.245210</td>\n",
       "      <td>2019-11-19 04:44:33.258000+00:00</td>\n",
       "    </tr>\n",
       "    <tr>\n",
       "      <th>166437</th>\n",
       "      <td>TPS2</td>\n",
       "      <td>Level 3</td>\n",
       "      <td>c0:8c:71:31:bd:d3</td>\n",
       "      <td>-22.815072</td>\n",
       "      <td>-43.245423</td>\n",
       "      <td>2019-11-19 04:44:23.328000+00:00</td>\n",
       "    </tr>\n",
       "  </tbody>\n",
       "</table>\n",
       "<p>488 rows × 6 columns</p>\n",
       "</div>"
      ],
      "text/plain": [
       "        Building    Level      ClientMacAddr        lat        lng  \\\n",
       "1034529     TPS2  Level 3  fc:64:3a:d5:87:d0 -22.815457 -43.246260   \n",
       "1034528     TPS2  Level 3  fc:64:3a:d5:87:d0 -22.815457 -43.246260   \n",
       "1034393     TPS2  Level 3  fc:64:3a:d5:87:d0 -22.815463 -43.246239   \n",
       "1034266     TPS2  Level 3  fc:64:3a:d5:87:d0 -22.815469 -43.246279   \n",
       "1034163     TPS2  Level 3  fc:64:3a:d5:87:d0 -22.815457 -43.246286   \n",
       "...          ...      ...                ...        ...        ...   \n",
       "166896      TPS2  Level 3  c0:8c:71:31:bd:d3 -22.815094 -43.245565   \n",
       "166652      TPS2  Level 3  c0:8c:71:31:bd:d3 -22.815061 -43.245398   \n",
       "166559      TPS2  Level 3  c0:8c:71:31:bd:d3 -22.815007 -43.245210   \n",
       "166558      TPS2  Level 3  c0:8c:71:31:bd:d3 -22.815007 -43.245210   \n",
       "166437      TPS2  Level 3  c0:8c:71:31:bd:d3 -22.815072 -43.245423   \n",
       "\n",
       "                               localtime  \n",
       "1034529 2019-11-19 23:59:48.135000+00:00  \n",
       "1034528 2019-11-19 23:59:48.134000+00:00  \n",
       "1034393 2019-11-19 23:59:38.212000+00:00  \n",
       "1034266 2019-11-19 23:59:28.118000+00:00  \n",
       "1034163 2019-11-19 23:59:18.115000+00:00  \n",
       "...                                  ...  \n",
       "166896  2019-11-19 04:45:03.315000+00:00  \n",
       "166652  2019-11-19 04:44:43.282000+00:00  \n",
       "166559  2019-11-19 04:44:33.259000+00:00  \n",
       "166558  2019-11-19 04:44:33.258000+00:00  \n",
       "166437  2019-11-19 04:44:23.328000+00:00  \n",
       "\n",
       "[488 rows x 6 columns]"
      ]
     },
     "execution_count": 55,
     "metadata": {},
     "output_type": "execute_result"
    }
   ],
   "source": [
    "pd.DataFrame(temp_df.sort_values(by=['localtime'], ascending=False))"
   ]
  },
  {
   "cell_type": "code",
   "execution_count": 56,
   "metadata": {},
   "outputs": [
    {
     "data": {
      "text/plain": [
       "Timedelta('0 days 00:04:27')"
      ]
     },
     "execution_count": 56,
     "metadata": {},
     "output_type": "execute_result"
    }
   ],
   "source": [
    "df[df['ClientMacAddr'] == '84:10:0d:b5:06:e0']['localtime'].max() - df[df['ClientMacAddr'] == '84:10:0d:b5:06:e0']['localtime'].min()"
   ]
  },
  {
   "cell_type": "code",
   "execution_count": 57,
   "metadata": {},
   "outputs": [
    {
     "data": {
      "text/plain": [
       "Timedelta('0 days 02:39:35.171000')"
      ]
     },
     "execution_count": 57,
     "metadata": {},
     "output_type": "execute_result"
    }
   ],
   "source": [
    "df[df['ClientMacAddr'] == 'c0:8c:71:31:bd:d3']['localtime'].max() - df[df['ClientMacAddr'] == 'c0:8c:71:31:bd:d3']['localtime'].min()"
   ]
  },
  {
   "cell_type": "code",
   "execution_count": 58,
   "metadata": {},
   "outputs": [
    {
     "data": {
      "text/plain": [
       "Timedelta('0 days 01:23:26.353000')"
      ]
     },
     "execution_count": 58,
     "metadata": {},
     "output_type": "execute_result"
    }
   ],
   "source": [
    "\n",
    "df[df['ClientMacAddr'] == 'fc:64:3a:d5:87:d0']['localtime'].max() - df[df['ClientMacAddr'] == 'fc:64:3a:d5:87:d0']['localtime'].min()"
   ]
  },
  {
   "cell_type": "code",
   "execution_count": 59,
   "metadata": {},
   "outputs": [
    {
     "data": {
      "text/html": [
       "<div>\n",
       "<style scoped>\n",
       "    .dataframe tbody tr th:only-of-type {\n",
       "        vertical-align: middle;\n",
       "    }\n",
       "\n",
       "    .dataframe tbody tr th {\n",
       "        vertical-align: top;\n",
       "    }\n",
       "\n",
       "    .dataframe thead th {\n",
       "        text-align: right;\n",
       "    }\n",
       "</style>\n",
       "<table border=\"1\" class=\"dataframe\">\n",
       "  <thead>\n",
       "    <tr style=\"text-align: right;\">\n",
       "      <th></th>\n",
       "      <th>0</th>\n",
       "    </tr>\n",
       "    <tr>\n",
       "      <th>ClientMacAddr</th>\n",
       "      <th></th>\n",
       "    </tr>\n",
       "  </thead>\n",
       "  <tbody>\n",
       "    <tr>\n",
       "      <th>fc:64:3a:d5:87:d0</th>\n",
       "      <td>219</td>\n",
       "    </tr>\n",
       "    <tr>\n",
       "      <th>84:10:0d:b5:06:e0</th>\n",
       "      <td>10</td>\n",
       "    </tr>\n",
       "  </tbody>\n",
       "</table>\n",
       "</div>"
      ],
      "text/plain": [
       "                     0\n",
       "ClientMacAddr         \n",
       "fc:64:3a:d5:87:d0  219\n",
       "84:10:0d:b5:06:e0   10"
      ]
     },
     "execution_count": 59,
     "metadata": {},
     "output_type": "execute_result"
    }
   ],
   "source": [
    "temp1_df = df.loc[(df['ClientMacAddr'] == \"84:10:0d:b5:06:e0\")|(df['ClientMacAddr'] == \"fc:64:3a:d5:87:d0\") ]\n",
    "\n",
    "pd.DataFrame(temp1_df.groupby(['ClientMacAddr']).size()).sort_values(by=[0], ascending=False)"
   ]
  },
  {
   "cell_type": "code",
   "execution_count": 60,
   "metadata": {},
   "outputs": [
    {
     "data": {
      "text/html": [
       "<div>\n",
       "<style scoped>\n",
       "    .dataframe tbody tr th:only-of-type {\n",
       "        vertical-align: middle;\n",
       "    }\n",
       "\n",
       "    .dataframe tbody tr th {\n",
       "        vertical-align: top;\n",
       "    }\n",
       "\n",
       "    .dataframe thead th {\n",
       "        text-align: right;\n",
       "    }\n",
       "</style>\n",
       "<table border=\"1\" class=\"dataframe\">\n",
       "  <thead>\n",
       "    <tr style=\"text-align: right;\">\n",
       "      <th></th>\n",
       "      <th>Building</th>\n",
       "      <th>Level</th>\n",
       "      <th>ClientMacAddr</th>\n",
       "      <th>lat</th>\n",
       "      <th>lng</th>\n",
       "      <th>localtime</th>\n",
       "    </tr>\n",
       "  </thead>\n",
       "  <tbody>\n",
       "    <tr>\n",
       "      <th>1034529</th>\n",
       "      <td>TPS2</td>\n",
       "      <td>Level 3</td>\n",
       "      <td>fc:64:3a:d5:87:d0</td>\n",
       "      <td>-22.815457</td>\n",
       "      <td>-43.246260</td>\n",
       "      <td>2019-11-19 23:59:48.135000+00:00</td>\n",
       "    </tr>\n",
       "    <tr>\n",
       "      <th>1034528</th>\n",
       "      <td>TPS2</td>\n",
       "      <td>Level 3</td>\n",
       "      <td>fc:64:3a:d5:87:d0</td>\n",
       "      <td>-22.815457</td>\n",
       "      <td>-43.246260</td>\n",
       "      <td>2019-11-19 23:59:48.134000+00:00</td>\n",
       "    </tr>\n",
       "    <tr>\n",
       "      <th>1034393</th>\n",
       "      <td>TPS2</td>\n",
       "      <td>Level 3</td>\n",
       "      <td>fc:64:3a:d5:87:d0</td>\n",
       "      <td>-22.815463</td>\n",
       "      <td>-43.246239</td>\n",
       "      <td>2019-11-19 23:59:38.212000+00:00</td>\n",
       "    </tr>\n",
       "    <tr>\n",
       "      <th>1034266</th>\n",
       "      <td>TPS2</td>\n",
       "      <td>Level 3</td>\n",
       "      <td>fc:64:3a:d5:87:d0</td>\n",
       "      <td>-22.815469</td>\n",
       "      <td>-43.246279</td>\n",
       "      <td>2019-11-19 23:59:28.118000+00:00</td>\n",
       "    </tr>\n",
       "    <tr>\n",
       "      <th>1034163</th>\n",
       "      <td>TPS2</td>\n",
       "      <td>Level 3</td>\n",
       "      <td>fc:64:3a:d5:87:d0</td>\n",
       "      <td>-22.815457</td>\n",
       "      <td>-43.246286</td>\n",
       "      <td>2019-11-19 23:59:18.115000+00:00</td>\n",
       "    </tr>\n",
       "    <tr>\n",
       "      <th>...</th>\n",
       "      <td>...</td>\n",
       "      <td>...</td>\n",
       "      <td>...</td>\n",
       "      <td>...</td>\n",
       "      <td>...</td>\n",
       "      <td>...</td>\n",
       "    </tr>\n",
       "    <tr>\n",
       "      <th>261523</th>\n",
       "      <td>TPS2</td>\n",
       "      <td>Level 3</td>\n",
       "      <td>84:10:0d:b5:06:e0</td>\n",
       "      <td>-22.813966</td>\n",
       "      <td>-43.247112</td>\n",
       "      <td>2019-11-19 06:51:59.351000+00:00</td>\n",
       "    </tr>\n",
       "    <tr>\n",
       "      <th>261522</th>\n",
       "      <td>TPS2</td>\n",
       "      <td>Level 3</td>\n",
       "      <td>84:10:0d:b5:06:e0</td>\n",
       "      <td>-22.813966</td>\n",
       "      <td>-43.247112</td>\n",
       "      <td>2019-11-19 06:51:59.350000+00:00</td>\n",
       "    </tr>\n",
       "    <tr>\n",
       "      <th>261388</th>\n",
       "      <td>TPS2</td>\n",
       "      <td>Level 3</td>\n",
       "      <td>84:10:0d:b5:06:e0</td>\n",
       "      <td>-22.813966</td>\n",
       "      <td>-43.247112</td>\n",
       "      <td>2019-11-19 06:51:49.590000+00:00</td>\n",
       "    </tr>\n",
       "    <tr>\n",
       "      <th>259885</th>\n",
       "      <td>TPS2</td>\n",
       "      <td>Level 3</td>\n",
       "      <td>84:10:0d:b5:06:e0</td>\n",
       "      <td>-22.814521</td>\n",
       "      <td>-43.247484</td>\n",
       "      <td>2019-11-19 06:49:54.337000+00:00</td>\n",
       "    </tr>\n",
       "    <tr>\n",
       "      <th>259645</th>\n",
       "      <td>TPS2</td>\n",
       "      <td>Level 3</td>\n",
       "      <td>84:10:0d:b5:06:e0</td>\n",
       "      <td>-22.814655</td>\n",
       "      <td>-43.247448</td>\n",
       "      <td>2019-11-19 06:49:34.390000+00:00</td>\n",
       "    </tr>\n",
       "  </tbody>\n",
       "</table>\n",
       "<p>229 rows × 6 columns</p>\n",
       "</div>"
      ],
      "text/plain": [
       "        Building    Level      ClientMacAddr        lat        lng  \\\n",
       "1034529     TPS2  Level 3  fc:64:3a:d5:87:d0 -22.815457 -43.246260   \n",
       "1034528     TPS2  Level 3  fc:64:3a:d5:87:d0 -22.815457 -43.246260   \n",
       "1034393     TPS2  Level 3  fc:64:3a:d5:87:d0 -22.815463 -43.246239   \n",
       "1034266     TPS2  Level 3  fc:64:3a:d5:87:d0 -22.815469 -43.246279   \n",
       "1034163     TPS2  Level 3  fc:64:3a:d5:87:d0 -22.815457 -43.246286   \n",
       "...          ...      ...                ...        ...        ...   \n",
       "261523      TPS2  Level 3  84:10:0d:b5:06:e0 -22.813966 -43.247112   \n",
       "261522      TPS2  Level 3  84:10:0d:b5:06:e0 -22.813966 -43.247112   \n",
       "261388      TPS2  Level 3  84:10:0d:b5:06:e0 -22.813966 -43.247112   \n",
       "259885      TPS2  Level 3  84:10:0d:b5:06:e0 -22.814521 -43.247484   \n",
       "259645      TPS2  Level 3  84:10:0d:b5:06:e0 -22.814655 -43.247448   \n",
       "\n",
       "                               localtime  \n",
       "1034529 2019-11-19 23:59:48.135000+00:00  \n",
       "1034528 2019-11-19 23:59:48.134000+00:00  \n",
       "1034393 2019-11-19 23:59:38.212000+00:00  \n",
       "1034266 2019-11-19 23:59:28.118000+00:00  \n",
       "1034163 2019-11-19 23:59:18.115000+00:00  \n",
       "...                                  ...  \n",
       "261523  2019-11-19 06:51:59.351000+00:00  \n",
       "261522  2019-11-19 06:51:59.350000+00:00  \n",
       "261388  2019-11-19 06:51:49.590000+00:00  \n",
       "259885  2019-11-19 06:49:54.337000+00:00  \n",
       "259645  2019-11-19 06:49:34.390000+00:00  \n",
       "\n",
       "[229 rows x 6 columns]"
      ]
     },
     "execution_count": 60,
     "metadata": {},
     "output_type": "execute_result"
    }
   ],
   "source": [
    "pd.DataFrame(temp1_df.sort_values(by=['localtime'], ascending=False))"
   ]
  },
  {
   "cell_type": "code",
   "execution_count": 61,
   "metadata": {},
   "outputs": [
    {
     "data": {
      "text/plain": [
       "Timestamp('2019-11-19 19:50:11.544704512+0000', tz='UTC')"
      ]
     },
     "execution_count": 61,
     "metadata": {},
     "output_type": "execute_result"
    }
   ],
   "source": [
    "df['localtime'].mean()+ timedelta(hours=8)"
   ]
  },
  {
   "cell_type": "markdown",
   "metadata": {},
   "source": [
    "df[df.groupby(['ClientMacAddr'])]"
   ]
  },
  {
   "cell_type": "code",
   "execution_count": 62,
   "metadata": {},
   "outputs": [
    {
     "data": {
      "text/html": [
       "<div>\n",
       "<style scoped>\n",
       "    .dataframe tbody tr th:only-of-type {\n",
       "        vertical-align: middle;\n",
       "    }\n",
       "\n",
       "    .dataframe tbody tr th {\n",
       "        vertical-align: top;\n",
       "    }\n",
       "\n",
       "    .dataframe thead th {\n",
       "        text-align: right;\n",
       "    }\n",
       "</style>\n",
       "<table border=\"1\" class=\"dataframe\">\n",
       "  <thead>\n",
       "    <tr style=\"text-align: right;\">\n",
       "      <th></th>\n",
       "      <th>Building</th>\n",
       "      <th>Level</th>\n",
       "      <th>ClientMacAddr</th>\n",
       "      <th>lat</th>\n",
       "      <th>lng</th>\n",
       "      <th>localtime</th>\n",
       "    </tr>\n",
       "  </thead>\n",
       "  <tbody>\n",
       "    <tr>\n",
       "      <th>1034662</th>\n",
       "      <td>TPS2</td>\n",
       "      <td>Level 3</td>\n",
       "      <td>d4:63:c6:4e:72:5b</td>\n",
       "      <td>-22.814747</td>\n",
       "      <td>-43.244235</td>\n",
       "      <td>2019-11-19 23:59:59.414000+00:00</td>\n",
       "    </tr>\n",
       "    <tr>\n",
       "      <th>1034661</th>\n",
       "      <td>TPS2</td>\n",
       "      <td>Level 3</td>\n",
       "      <td>c0:a5:dd:17:fb:e6</td>\n",
       "      <td>-22.814484</td>\n",
       "      <td>-43.246923</td>\n",
       "      <td>2019-11-19 23:59:59.394000+00:00</td>\n",
       "    </tr>\n",
       "    <tr>\n",
       "      <th>1034660</th>\n",
       "      <td>TPS2</td>\n",
       "      <td>Level 3</td>\n",
       "      <td>40:9b:cd:96:44:5f</td>\n",
       "      <td>-22.813843</td>\n",
       "      <td>-43.247260</td>\n",
       "      <td>2019-11-19 23:59:59.255000+00:00</td>\n",
       "    </tr>\n",
       "    <tr>\n",
       "      <th>1034659</th>\n",
       "      <td>TPS2</td>\n",
       "      <td>Level 3</td>\n",
       "      <td>40:9b:cd:96:44:5f</td>\n",
       "      <td>-22.813843</td>\n",
       "      <td>-43.247260</td>\n",
       "      <td>2019-11-19 23:59:59.254000+00:00</td>\n",
       "    </tr>\n",
       "    <tr>\n",
       "      <th>1034658</th>\n",
       "      <td>TPS2</td>\n",
       "      <td>Level 3</td>\n",
       "      <td>b0:be:76:2f:41:47</td>\n",
       "      <td>-22.813922</td>\n",
       "      <td>-43.247604</td>\n",
       "      <td>2019-11-19 23:59:59.246000+00:00</td>\n",
       "    </tr>\n",
       "    <tr>\n",
       "      <th>...</th>\n",
       "      <td>...</td>\n",
       "      <td>...</td>\n",
       "      <td>...</td>\n",
       "      <td>...</td>\n",
       "      <td>...</td>\n",
       "      <td>...</td>\n",
       "    </tr>\n",
       "    <tr>\n",
       "      <th>4</th>\n",
       "      <td>TPS2</td>\n",
       "      <td>Level 3</td>\n",
       "      <td>40:9b:cd:96:44:14</td>\n",
       "      <td>-22.813448</td>\n",
       "      <td>-43.247592</td>\n",
       "      <td>2019-11-19 00:00:00.287000+00:00</td>\n",
       "    </tr>\n",
       "    <tr>\n",
       "      <th>3</th>\n",
       "      <td>TPS2</td>\n",
       "      <td>Level 3</td>\n",
       "      <td>8c:f1:12:2f:3e:d8</td>\n",
       "      <td>-22.813708</td>\n",
       "      <td>-43.247711</td>\n",
       "      <td>2019-11-19 00:00:00.274000+00:00</td>\n",
       "    </tr>\n",
       "    <tr>\n",
       "      <th>2</th>\n",
       "      <td>TPS2</td>\n",
       "      <td>Level 3</td>\n",
       "      <td>28:83:35:26:bc:f3</td>\n",
       "      <td>-22.813551</td>\n",
       "      <td>-43.247198</td>\n",
       "      <td>2019-11-19 00:00:00.272000+00:00</td>\n",
       "    </tr>\n",
       "    <tr>\n",
       "      <th>1</th>\n",
       "      <td>TPS2</td>\n",
       "      <td>Level 3</td>\n",
       "      <td>b8:27:eb:14:a4:88</td>\n",
       "      <td>-22.813697</td>\n",
       "      <td>-43.247597</td>\n",
       "      <td>2019-11-19 00:00:00.197000+00:00</td>\n",
       "    </tr>\n",
       "    <tr>\n",
       "      <th>0</th>\n",
       "      <td>TPS2</td>\n",
       "      <td>Level 3</td>\n",
       "      <td>88:e9:fe:ec:8d:95</td>\n",
       "      <td>-22.814076</td>\n",
       "      <td>-43.247676</td>\n",
       "      <td>2019-11-19 00:00:00.120000+00:00</td>\n",
       "    </tr>\n",
       "  </tbody>\n",
       "</table>\n",
       "<p>1034663 rows × 6 columns</p>\n",
       "</div>"
      ],
      "text/plain": [
       "        Building    Level      ClientMacAddr        lat        lng  \\\n",
       "1034662     TPS2  Level 3  d4:63:c6:4e:72:5b -22.814747 -43.244235   \n",
       "1034661     TPS2  Level 3  c0:a5:dd:17:fb:e6 -22.814484 -43.246923   \n",
       "1034660     TPS2  Level 3  40:9b:cd:96:44:5f -22.813843 -43.247260   \n",
       "1034659     TPS2  Level 3  40:9b:cd:96:44:5f -22.813843 -43.247260   \n",
       "1034658     TPS2  Level 3  b0:be:76:2f:41:47 -22.813922 -43.247604   \n",
       "...          ...      ...                ...        ...        ...   \n",
       "4           TPS2  Level 3  40:9b:cd:96:44:14 -22.813448 -43.247592   \n",
       "3           TPS2  Level 3  8c:f1:12:2f:3e:d8 -22.813708 -43.247711   \n",
       "2           TPS2  Level 3  28:83:35:26:bc:f3 -22.813551 -43.247198   \n",
       "1           TPS2  Level 3  b8:27:eb:14:a4:88 -22.813697 -43.247597   \n",
       "0           TPS2  Level 3  88:e9:fe:ec:8d:95 -22.814076 -43.247676   \n",
       "\n",
       "                               localtime  \n",
       "1034662 2019-11-19 23:59:59.414000+00:00  \n",
       "1034661 2019-11-19 23:59:59.394000+00:00  \n",
       "1034660 2019-11-19 23:59:59.255000+00:00  \n",
       "1034659 2019-11-19 23:59:59.254000+00:00  \n",
       "1034658 2019-11-19 23:59:59.246000+00:00  \n",
       "...                                  ...  \n",
       "4       2019-11-19 00:00:00.287000+00:00  \n",
       "3       2019-11-19 00:00:00.274000+00:00  \n",
       "2       2019-11-19 00:00:00.272000+00:00  \n",
       "1       2019-11-19 00:00:00.197000+00:00  \n",
       "0       2019-11-19 00:00:00.120000+00:00  \n",
       "\n",
       "[1034663 rows x 6 columns]"
      ]
     },
     "execution_count": 62,
     "metadata": {},
     "output_type": "execute_result"
    }
   ],
   "source": [
    "df"
   ]
  },
  {
   "cell_type": "code",
   "execution_count": 63,
   "metadata": {},
   "outputs": [
    {
     "data": {
      "text/html": [
       "<div>\n",
       "<style scoped>\n",
       "    .dataframe tbody tr th:only-of-type {\n",
       "        vertical-align: middle;\n",
       "    }\n",
       "\n",
       "    .dataframe tbody tr th {\n",
       "        vertical-align: top;\n",
       "    }\n",
       "\n",
       "    .dataframe thead th {\n",
       "        text-align: right;\n",
       "    }\n",
       "</style>\n",
       "<table border=\"1\" class=\"dataframe\">\n",
       "  <thead>\n",
       "    <tr style=\"text-align: right;\">\n",
       "      <th></th>\n",
       "      <th>0</th>\n",
       "    </tr>\n",
       "    <tr>\n",
       "      <th>ClientMacAddr</th>\n",
       "      <th></th>\n",
       "    </tr>\n",
       "  </thead>\n",
       "  <tbody>\n",
       "    <tr>\n",
       "      <th>a4:b8:05:c5:46:73</th>\n",
       "      <td>100</td>\n",
       "    </tr>\n",
       "    <tr>\n",
       "      <th>48:49:c7:df:23:84</th>\n",
       "      <td>100</td>\n",
       "    </tr>\n",
       "    <tr>\n",
       "      <th>fc:64:3a:74:57:d8</th>\n",
       "      <td>100</td>\n",
       "    </tr>\n",
       "    <tr>\n",
       "      <th>44:91:60:64:d8:9d</th>\n",
       "      <td>100</td>\n",
       "    </tr>\n",
       "    <tr>\n",
       "      <th>60:1d:91:04:d6:f7</th>\n",
       "      <td>100</td>\n",
       "    </tr>\n",
       "    <tr>\n",
       "      <th>44:91:60:ce:d7:45</th>\n",
       "      <td>100</td>\n",
       "    </tr>\n",
       "    <tr>\n",
       "      <th>88:79:7e:6b:83:3b</th>\n",
       "      <td>100</td>\n",
       "    </tr>\n",
       "    <tr>\n",
       "      <th>0c:cb:85:93:8b:cf</th>\n",
       "      <td>100</td>\n",
       "    </tr>\n",
       "    <tr>\n",
       "      <th>04:d4:c4:9c:41:7d</th>\n",
       "      <td>100</td>\n",
       "    </tr>\n",
       "    <tr>\n",
       "      <th>38:9a:f6:96:29:ab</th>\n",
       "      <td>100</td>\n",
       "    </tr>\n",
       "    <tr>\n",
       "      <th>50:92:b9:dc:a4:22</th>\n",
       "      <td>100</td>\n",
       "    </tr>\n",
       "    <tr>\n",
       "      <th>68:7d:6b:11:91:7b</th>\n",
       "      <td>100</td>\n",
       "    </tr>\n",
       "    <tr>\n",
       "      <th>7c:8b:b5:39:6b:bd</th>\n",
       "      <td>100</td>\n",
       "    </tr>\n",
       "    <tr>\n",
       "      <th>28:83:35:73:0a:65</th>\n",
       "      <td>100</td>\n",
       "    </tr>\n",
       "    <tr>\n",
       "      <th>7c:8b:b5:30:42:f5</th>\n",
       "      <td>100</td>\n",
       "    </tr>\n",
       "    <tr>\n",
       "      <th>a8:96:75:43:51:3b</th>\n",
       "      <td>100</td>\n",
       "    </tr>\n",
       "    <tr>\n",
       "      <th>68:c4:4d:61:ad:4d</th>\n",
       "      <td>100</td>\n",
       "    </tr>\n",
       "    <tr>\n",
       "      <th>f4:f5:24:8e:42:28</th>\n",
       "      <td>100</td>\n",
       "    </tr>\n",
       "    <tr>\n",
       "      <th>74:b5:87:83:a1:19</th>\n",
       "      <td>100</td>\n",
       "    </tr>\n",
       "    <tr>\n",
       "      <th>2c:33:61:96:9e:c6</th>\n",
       "      <td>100</td>\n",
       "    </tr>\n",
       "    <tr>\n",
       "      <th>88:b4:a6:a3:6b:1f</th>\n",
       "      <td>100</td>\n",
       "    </tr>\n",
       "    <tr>\n",
       "      <th>18:89:5b:44:e8:f1</th>\n",
       "      <td>100</td>\n",
       "    </tr>\n",
       "    <tr>\n",
       "      <th>38:80:df:ae:2f:3e</th>\n",
       "      <td>100</td>\n",
       "    </tr>\n",
       "    <tr>\n",
       "      <th>d8:1c:79:5b:de:e5</th>\n",
       "      <td>100</td>\n",
       "    </tr>\n",
       "    <tr>\n",
       "      <th>a8:16:d0:bc:00:25</th>\n",
       "      <td>100</td>\n",
       "    </tr>\n",
       "    <tr>\n",
       "      <th>24:c6:96:99:76:a7</th>\n",
       "      <td>100</td>\n",
       "    </tr>\n",
       "    <tr>\n",
       "      <th>a8:16:d0:1c:f0:3d</th>\n",
       "      <td>99</td>\n",
       "    </tr>\n",
       "    <tr>\n",
       "      <th>48:e2:44:78:d2:15</th>\n",
       "      <td>99</td>\n",
       "    </tr>\n",
       "    <tr>\n",
       "      <th>04:d6:aa:d0:07:33</th>\n",
       "      <td>99</td>\n",
       "    </tr>\n",
       "    <tr>\n",
       "      <th>a8:16:d0:39:ea:05</th>\n",
       "      <td>99</td>\n",
       "    </tr>\n",
       "    <tr>\n",
       "      <th>fc:64:3a:db:59:9e</th>\n",
       "      <td>99</td>\n",
       "    </tr>\n",
       "    <tr>\n",
       "      <th>f0:99:b6:3c:62:7b</th>\n",
       "      <td>99</td>\n",
       "    </tr>\n",
       "    <tr>\n",
       "      <th>dc:0b:34:d5:38:be</th>\n",
       "      <td>99</td>\n",
       "    </tr>\n",
       "    <tr>\n",
       "      <th>fc:64:3a:63:73:cc</th>\n",
       "      <td>99</td>\n",
       "    </tr>\n",
       "    <tr>\n",
       "      <th>58:d9:c3:76:c7:24</th>\n",
       "      <td>99</td>\n",
       "    </tr>\n",
       "    <tr>\n",
       "      <th>74:d2:1d:d7:bf:2f</th>\n",
       "      <td>99</td>\n",
       "    </tr>\n",
       "    <tr>\n",
       "      <th>f8:e9:4e:dd:73:44</th>\n",
       "      <td>99</td>\n",
       "    </tr>\n",
       "    <tr>\n",
       "      <th>10:98:c3:2b:4a:c3</th>\n",
       "      <td>99</td>\n",
       "    </tr>\n",
       "    <tr>\n",
       "      <th>c0:e8:62:0e:43:9b</th>\n",
       "      <td>99</td>\n",
       "    </tr>\n",
       "    <tr>\n",
       "      <th>30:4b:07:1f:3f:6c</th>\n",
       "      <td>99</td>\n",
       "    </tr>\n",
       "    <tr>\n",
       "      <th>d4:63:c6:a5:ec:3b</th>\n",
       "      <td>99</td>\n",
       "    </tr>\n",
       "    <tr>\n",
       "      <th>bc:4c:c4:b6:57:bd</th>\n",
       "      <td>99</td>\n",
       "    </tr>\n",
       "    <tr>\n",
       "      <th>bc:6c:21:be:1f:48</th>\n",
       "      <td>99</td>\n",
       "    </tr>\n",
       "    <tr>\n",
       "      <th>34:29:12:28:56:80</th>\n",
       "      <td>99</td>\n",
       "    </tr>\n",
       "    <tr>\n",
       "      <th>b4:c4:fc:5e:39:34</th>\n",
       "      <td>99</td>\n",
       "    </tr>\n",
       "  </tbody>\n",
       "</table>\n",
       "</div>"
      ],
      "text/plain": [
       "                     0\n",
       "ClientMacAddr         \n",
       "a4:b8:05:c5:46:73  100\n",
       "48:49:c7:df:23:84  100\n",
       "fc:64:3a:74:57:d8  100\n",
       "44:91:60:64:d8:9d  100\n",
       "60:1d:91:04:d6:f7  100\n",
       "44:91:60:ce:d7:45  100\n",
       "88:79:7e:6b:83:3b  100\n",
       "0c:cb:85:93:8b:cf  100\n",
       "04:d4:c4:9c:41:7d  100\n",
       "38:9a:f6:96:29:ab  100\n",
       "50:92:b9:dc:a4:22  100\n",
       "68:7d:6b:11:91:7b  100\n",
       "7c:8b:b5:39:6b:bd  100\n",
       "28:83:35:73:0a:65  100\n",
       "7c:8b:b5:30:42:f5  100\n",
       "a8:96:75:43:51:3b  100\n",
       "68:c4:4d:61:ad:4d  100\n",
       "f4:f5:24:8e:42:28  100\n",
       "74:b5:87:83:a1:19  100\n",
       "2c:33:61:96:9e:c6  100\n",
       "88:b4:a6:a3:6b:1f  100\n",
       "18:89:5b:44:e8:f1  100\n",
       "38:80:df:ae:2f:3e  100\n",
       "d8:1c:79:5b:de:e5  100\n",
       "a8:16:d0:bc:00:25  100\n",
       "24:c6:96:99:76:a7  100\n",
       "a8:16:d0:1c:f0:3d   99\n",
       "48:e2:44:78:d2:15   99\n",
       "04:d6:aa:d0:07:33   99\n",
       "a8:16:d0:39:ea:05   99\n",
       "fc:64:3a:db:59:9e   99\n",
       "f0:99:b6:3c:62:7b   99\n",
       "dc:0b:34:d5:38:be   99\n",
       "fc:64:3a:63:73:cc   99\n",
       "58:d9:c3:76:c7:24   99\n",
       "74:d2:1d:d7:bf:2f   99\n",
       "f8:e9:4e:dd:73:44   99\n",
       "10:98:c3:2b:4a:c3   99\n",
       "c0:e8:62:0e:43:9b   99\n",
       "30:4b:07:1f:3f:6c   99\n",
       "d4:63:c6:a5:ec:3b   99\n",
       "bc:4c:c4:b6:57:bd   99\n",
       "bc:6c:21:be:1f:48   99\n",
       "34:29:12:28:56:80   99\n",
       "b4:c4:fc:5e:39:34   99"
      ]
     },
     "execution_count": 63,
     "metadata": {},
     "output_type": "execute_result"
    }
   ],
   "source": [
    "df1"
   ]
  },
  {
   "cell_type": "code",
   "execution_count": 64,
   "metadata": {},
   "outputs": [],
   "source": [
    "df_count = pd.DataFrame(df.groupby(['ClientMacAddr']).size()).sort_values(by=[0], ascending=False) "
   ]
  },
  {
   "cell_type": "code",
   "execution_count": null,
   "metadata": {},
   "outputs": [],
   "source": []
  },
  {
   "cell_type": "code",
   "execution_count": 65,
   "metadata": {},
   "outputs": [],
   "source": [
    "df_count = df.copy()"
   ]
  },
  {
   "cell_type": "code",
   "execution_count": 111,
   "metadata": {},
   "outputs": [],
   "source": [
    "df_solo = df_count.groupby(\"ClientMacAddr\").filter(lambda x: len(x) > 10 and len(x) < 15)"
   ]
  },
  {
   "cell_type": "code",
   "execution_count": 112,
   "metadata": {},
   "outputs": [
    {
     "data": {
      "text/plain": [
       "1379"
      ]
     },
     "execution_count": 112,
     "metadata": {},
     "output_type": "execute_result"
    }
   ],
   "source": [
    "len(df_solo.ClientMacAddr.unique())"
   ]
  },
  {
   "cell_type": "code",
   "execution_count": 86,
   "metadata": {},
   "outputs": [],
   "source": [
    "with open('tps2000000000181_161718.json', 'r') as datafile:\n",
    "        data = json.load(datafile)\n",
    "df_161718 = pd.DataFrame(data)"
   ]
  },
  {
   "cell_type": "code",
   "execution_count": 92,
   "metadata": {},
   "outputs": [],
   "source": [
    "Mac_161718 = pd.DataFrame(df_161718['ClientMacAddr'],index=None)"
   ]
  },
  {
   "cell_type": "code",
   "execution_count": 118,
   "metadata": {},
   "outputs": [],
   "source": [
    "solo_mac =set(df_solo.ClientMacAddr.unique()).difference(set(Mac_161718.ClientMacAddr.unique()))"
   ]
  },
  {
   "cell_type": "code",
   "execution_count": 119,
   "metadata": {},
   "outputs": [],
   "source": [
    "#df_solo[df_solo['ClientMacAddr'] not in Mac_161718['ClientMacAddr'] ]"
   ]
  },
  {
   "cell_type": "code",
   "execution_count": 120,
   "metadata": {},
   "outputs": [
    {
     "data": {
      "text/plain": [
       "1261"
      ]
     },
     "execution_count": 120,
     "metadata": {},
     "output_type": "execute_result"
    }
   ],
   "source": [
    "len(solo_mac)"
   ]
  },
  {
   "cell_type": "code",
   "execution_count": 123,
   "metadata": {},
   "outputs": [],
   "source": [
    "solo_macid_data = df_solo[df_solo['ClientMacAddr'].isin(solo_mac) ]"
   ]
  },
  {
   "cell_type": "code",
   "execution_count": 124,
   "metadata": {},
   "outputs": [
    {
     "data": {
      "text/html": [
       "<div>\n",
       "<style scoped>\n",
       "    .dataframe tbody tr th:only-of-type {\n",
       "        vertical-align: middle;\n",
       "    }\n",
       "\n",
       "    .dataframe tbody tr th {\n",
       "        vertical-align: top;\n",
       "    }\n",
       "\n",
       "    .dataframe thead th {\n",
       "        text-align: right;\n",
       "    }\n",
       "</style>\n",
       "<table border=\"1\" class=\"dataframe\">\n",
       "  <thead>\n",
       "    <tr style=\"text-align: right;\">\n",
       "      <th></th>\n",
       "      <th>Building</th>\n",
       "      <th>Level</th>\n",
       "      <th>ClientMacAddr</th>\n",
       "      <th>lat</th>\n",
       "      <th>lng</th>\n",
       "      <th>localtime</th>\n",
       "    </tr>\n",
       "  </thead>\n",
       "  <tbody>\n",
       "    <tr>\n",
       "      <th>1034653</th>\n",
       "      <td>TPS2</td>\n",
       "      <td>Level 3</td>\n",
       "      <td>88:bf:e4:72:ff:4e</td>\n",
       "      <td>-22.814138</td>\n",
       "      <td>-43.247565</td>\n",
       "      <td>2019-11-19 23:59:58.368000+00:00</td>\n",
       "    </tr>\n",
       "    <tr>\n",
       "      <th>1034556</th>\n",
       "      <td>TPS2</td>\n",
       "      <td>Level 3</td>\n",
       "      <td>bc:ff:eb:23:7b:cc</td>\n",
       "      <td>-22.815094</td>\n",
       "      <td>-43.245538</td>\n",
       "      <td>2019-11-19 23:59:49.412000+00:00</td>\n",
       "    </tr>\n",
       "    <tr>\n",
       "      <th>1034418</th>\n",
       "      <td>TPS2</td>\n",
       "      <td>Level 3</td>\n",
       "      <td>bc:ff:eb:23:7b:cc</td>\n",
       "      <td>-22.815092</td>\n",
       "      <td>-43.245503</td>\n",
       "      <td>2019-11-19 23:59:39.421000+00:00</td>\n",
       "    </tr>\n",
       "    <tr>\n",
       "      <th>1034383</th>\n",
       "      <td>TPS2</td>\n",
       "      <td>Level 3</td>\n",
       "      <td>38:9a:f6:cc:24:11</td>\n",
       "      <td>-22.813887</td>\n",
       "      <td>-43.247158</td>\n",
       "      <td>2019-11-19 23:59:37.260000+00:00</td>\n",
       "    </tr>\n",
       "    <tr>\n",
       "      <th>1034346</th>\n",
       "      <td>TPS2</td>\n",
       "      <td>Level 3</td>\n",
       "      <td>d8:9c:67:fe:aa:a1</td>\n",
       "      <td>-22.813556</td>\n",
       "      <td>-43.247224</td>\n",
       "      <td>2019-11-19 23:59:33.203000+00:00</td>\n",
       "    </tr>\n",
       "    <tr>\n",
       "      <th>...</th>\n",
       "      <td>...</td>\n",
       "      <td>...</td>\n",
       "      <td>...</td>\n",
       "      <td>...</td>\n",
       "      <td>...</td>\n",
       "      <td>...</td>\n",
       "    </tr>\n",
       "    <tr>\n",
       "      <th>296</th>\n",
       "      <td>TPS2</td>\n",
       "      <td>Level 3</td>\n",
       "      <td>d4:c9:4b:b7:b4:ac</td>\n",
       "      <td>-22.813926</td>\n",
       "      <td>-43.247654</td>\n",
       "      <td>2019-11-19 00:00:21.262000+00:00</td>\n",
       "    </tr>\n",
       "    <tr>\n",
       "      <th>288</th>\n",
       "      <td>TPS2</td>\n",
       "      <td>Level 3</td>\n",
       "      <td>cc:9e:a2:fb:86:fb</td>\n",
       "      <td>-22.814923</td>\n",
       "      <td>-43.247013</td>\n",
       "      <td>2019-11-19 00:00:21.148000+00:00</td>\n",
       "    </tr>\n",
       "    <tr>\n",
       "      <th>261</th>\n",
       "      <td>TPS2</td>\n",
       "      <td>Level 3</td>\n",
       "      <td>50:92:b9:88:8d:00</td>\n",
       "      <td>-22.813395</td>\n",
       "      <td>-43.247474</td>\n",
       "      <td>2019-11-19 00:00:19.099000+00:00</td>\n",
       "    </tr>\n",
       "    <tr>\n",
       "      <th>219</th>\n",
       "      <td>TPS2</td>\n",
       "      <td>Level 3</td>\n",
       "      <td>fc:64:3a:db:5e:80</td>\n",
       "      <td>-22.814881</td>\n",
       "      <td>-43.246508</td>\n",
       "      <td>2019-11-19 00:00:14.378000+00:00</td>\n",
       "    </tr>\n",
       "    <tr>\n",
       "      <th>25</th>\n",
       "      <td>TPS2</td>\n",
       "      <td>Level 3</td>\n",
       "      <td>d4:c9:4b:b7:b4:ac</td>\n",
       "      <td>-22.813774</td>\n",
       "      <td>-43.247531</td>\n",
       "      <td>2019-11-19 00:00:01.346000+00:00</td>\n",
       "    </tr>\n",
       "  </tbody>\n",
       "</table>\n",
       "<p>15651 rows × 6 columns</p>\n",
       "</div>"
      ],
      "text/plain": [
       "        Building    Level      ClientMacAddr        lat        lng  \\\n",
       "1034653     TPS2  Level 3  88:bf:e4:72:ff:4e -22.814138 -43.247565   \n",
       "1034556     TPS2  Level 3  bc:ff:eb:23:7b:cc -22.815094 -43.245538   \n",
       "1034418     TPS2  Level 3  bc:ff:eb:23:7b:cc -22.815092 -43.245503   \n",
       "1034383     TPS2  Level 3  38:9a:f6:cc:24:11 -22.813887 -43.247158   \n",
       "1034346     TPS2  Level 3  d8:9c:67:fe:aa:a1 -22.813556 -43.247224   \n",
       "...          ...      ...                ...        ...        ...   \n",
       "296         TPS2  Level 3  d4:c9:4b:b7:b4:ac -22.813926 -43.247654   \n",
       "288         TPS2  Level 3  cc:9e:a2:fb:86:fb -22.814923 -43.247013   \n",
       "261         TPS2  Level 3  50:92:b9:88:8d:00 -22.813395 -43.247474   \n",
       "219         TPS2  Level 3  fc:64:3a:db:5e:80 -22.814881 -43.246508   \n",
       "25          TPS2  Level 3  d4:c9:4b:b7:b4:ac -22.813774 -43.247531   \n",
       "\n",
       "                               localtime  \n",
       "1034653 2019-11-19 23:59:58.368000+00:00  \n",
       "1034556 2019-11-19 23:59:49.412000+00:00  \n",
       "1034418 2019-11-19 23:59:39.421000+00:00  \n",
       "1034383 2019-11-19 23:59:37.260000+00:00  \n",
       "1034346 2019-11-19 23:59:33.203000+00:00  \n",
       "...                                  ...  \n",
       "296     2019-11-19 00:00:21.262000+00:00  \n",
       "288     2019-11-19 00:00:21.148000+00:00  \n",
       "261     2019-11-19 00:00:19.099000+00:00  \n",
       "219     2019-11-19 00:00:14.378000+00:00  \n",
       "25      2019-11-19 00:00:01.346000+00:00  \n",
       "\n",
       "[15651 rows x 6 columns]"
      ]
     },
     "execution_count": 124,
     "metadata": {},
     "output_type": "execute_result"
    }
   ],
   "source": [
    "solo_macid_data"
   ]
  },
  {
   "cell_type": "code",
   "execution_count": 127,
   "metadata": {},
   "outputs": [],
   "source": [
    "solo_macid_data.to_json('Solo.json',orient='records')"
   ]
  },
  {
   "cell_type": "markdown",
   "metadata": {},
   "source": [
    "# 2. Group Traveler Data"
   ]
  },
  {
   "cell_type": "code",
   "execution_count": null,
   "metadata": {},
   "outputs": [],
   "source": [
    "import json\n",
    "import sys\n",
    "import pyspark\n",
    "from operator import add\n",
    "from pyspark import SparkContext\n",
    "import pandas as pd\n",
    "\n",
    "lines = sc.textFile(\"gs://testdatakiana/tps2*\",6)\n",
    "rdd=lines.map(lambda x:json.loads(x))\n",
    "df_16= rdd.filter(lambda x: \"2019-11-16\"  in x['localtime'])\n",
    "df_17= rdd.filter(lambda x: \"2019-11-17\"  in x['localtime'])\n",
    "df_18= rdd.filter(lambda x: \"2019-11-18\"  in x['localtime'])\n",
    "df_19= rdd.filter(lambda x: \"2019-11-19\"  in x['localtime'])\n",
    "df_20= rdd.filter(lambda x: \"2019-11-20\"  in x['localtime'])\n",
    "df_16_mac = df_19.map(lambda x: (x[\"ClientMacAddr\"])).distinct()\n",
    "df_17_mac = df_17.map(lambda x: (x[\"ClientMacAddr\"])).distinct()\n",
    "df_18_mac = df_18.map(lambda x: (x[\"ClientMacAddr\"])).distinct()\n",
    "df_19_mac = df_19.map(lambda x: (x[\"ClientMacAddr\"])).distinct()\n",
    "df_20_mac = df_20.map(lambda x: (x[\"ClientMacAddr\"])).distinct()\n",
    "intersection_mac = (((df_16_mac.intersection(df_17_mac)).intersection(df_18_mac)).intersection(df_19_mac)).intersection(df_20_mac)\n",
    "mac_id_group = intersection_mac.collect()\n",
    "group = df_19.filter(lambda x: x['ClientMacAddr'] in mac_id_group).map(lambda x:(x['Building'],x['ClientMacAddr'],x['Level'],x['lat'],x['lng'],x['localtime'],0))"
   ]
  }
 ],
 "metadata": {
  "kernelspec": {
   "display_name": "Python 3",
   "language": "python",
   "name": "python3"
  },
  "language_info": {
   "codemirror_mode": {
    "name": "ipython",
    "version": 3
   },
   "file_extension": ".py",
   "mimetype": "text/x-python",
   "name": "python",
   "nbconvert_exporter": "python",
   "pygments_lexer": "ipython3",
   "version": "3.6.0"
  }
 },
 "nbformat": 4,
 "nbformat_minor": 4
}
